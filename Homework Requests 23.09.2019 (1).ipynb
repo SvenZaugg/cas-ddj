{
 "cells": [
  {
   "cell_type": "markdown",
   "metadata": {},
   "source": [
    "Importiere die requests Library"
   ]
  },
  {
   "cell_type": "code",
   "execution_count": 4,
   "metadata": {},
   "outputs": [],
   "source": [
    "import requests"
   ]
  },
  {
   "cell_type": "markdown",
   "metadata": {},
   "source": [
    "Importiere die Pandas Library in der Kurzform."
   ]
  },
  {
   "cell_type": "code",
   "execution_count": 209,
   "metadata": {},
   "outputs": [],
   "source": [
    "import pandas as pd\n",
    "import time "
   ]
  },
  {
   "cell_type": "markdown",
   "metadata": {},
   "source": [
    "1. Unter Verwendung der [USGS.gov Earthquake API](https://earthquake.usgs.gov) ziehe heraus, wieviele Erdbeben sich im August 2018 ereignet haben?"
   ]
  },
  {
   "cell_type": "code",
   "execution_count": 15,
   "metadata": {},
   "outputs": [],
   "source": [
    "url = 'https://earthquake.usgs.gov/fdsnws/event/1/count?starttime=2018-08-01&endtime=2018-08-31'"
   ]
  },
  {
   "cell_type": "code",
   "execution_count": 16,
   "metadata": {},
   "outputs": [],
   "source": [
    "response = requests.get(url)"
   ]
  },
  {
   "cell_type": "code",
   "execution_count": 17,
   "metadata": {},
   "outputs": [
    {
     "data": {
      "text/plain": [
       "'17045'"
      ]
     },
     "execution_count": 17,
     "metadata": {},
     "output_type": "execute_result"
    }
   ],
   "source": [
    "response.text"
   ]
  },
  {
   "cell_type": "markdown",
   "metadata": {},
   "source": [
    "2. Mache das gleiche für August 2017, 2016, 2015?"
   ]
  },
  {
   "cell_type": "code",
   "execution_count": 18,
   "metadata": {},
   "outputs": [],
   "source": [
    "url = 'https://earthquake.usgs.gov/fdsnws/event/1/count?starttime=2017-08-01&endtime=2017-08-31'"
   ]
  },
  {
   "cell_type": "code",
   "execution_count": 19,
   "metadata": {},
   "outputs": [],
   "source": [
    "response = requests.get(url)"
   ]
  },
  {
   "cell_type": "code",
   "execution_count": 20,
   "metadata": {},
   "outputs": [
    {
     "data": {
      "text/plain": [
       "'12300'"
      ]
     },
     "execution_count": 20,
     "metadata": {},
     "output_type": "execute_result"
    }
   ],
   "source": [
    "response.text"
   ]
  },
  {
   "cell_type": "code",
   "execution_count": 21,
   "metadata": {},
   "outputs": [],
   "source": [
    "url = 'https://earthquake.usgs.gov/fdsnws/event/1/count?starttime=2016-08-01&endtime=2016-08-31'"
   ]
  },
  {
   "cell_type": "code",
   "execution_count": 22,
   "metadata": {},
   "outputs": [],
   "source": [
    "response = requests.get(url)"
   ]
  },
  {
   "cell_type": "code",
   "execution_count": 23,
   "metadata": {},
   "outputs": [
    {
     "data": {
      "text/plain": [
       "'10878'"
      ]
     },
     "execution_count": 23,
     "metadata": {},
     "output_type": "execute_result"
    }
   ],
   "source": [
    "response.text"
   ]
  },
  {
   "cell_type": "code",
   "execution_count": 93,
   "metadata": {},
   "outputs": [],
   "source": [
    "url = 'https://earthquake.usgs.gov/fdsnws/event/1/count?starttime=2015-08-01&endtime=2015-08-31'"
   ]
  },
  {
   "cell_type": "code",
   "execution_count": 94,
   "metadata": {},
   "outputs": [],
   "source": [
    "response = requests.get(url)"
   ]
  },
  {
   "cell_type": "code",
   "execution_count": 96,
   "metadata": {},
   "outputs": [
    {
     "data": {
      "text/plain": [
       "'9981'"
      ]
     },
     "execution_count": 96,
     "metadata": {},
     "output_type": "execute_result"
    }
   ],
   "source": [
    "response.text"
   ]
  },
  {
   "cell_type": "code",
   "execution_count": null,
   "metadata": {},
   "outputs": [],
   "source": []
  },
  {
   "cell_type": "code",
   "execution_count": 115,
   "metadata": {},
   "outputs": [
    {
     "name": "stdout",
     "output_type": "stream",
     "text": [
      "2015:9981\n",
      "2016:10878\n",
      "2017:12300\n",
      "2018:17045\n"
     ]
    }
   ],
   "source": [
    "# Oder eine noch schickere Variante!\n",
    "\n",
    "# https://earthquake.usgs.gov/fdsnws/event/1/count?starttime=2014-01-01&endtime=2014-01-02\n",
    "\n",
    "import requests\n",
    "import pandas as pd\n",
    "base = \"https://earthquake.usgs.gov/fdsnws/event/1/\"\n",
    "action = \"count?\" # Der count? kann man auch easy durch query ersetzen.\n",
    "\n",
    "# Url = \"starttime=2018-09-25&endtime=2018-09-30-25&endtime=2018-09-30\"\n",
    "\n",
    "erdbebenzahl = []\n",
    "\n",
    "for jahr in range(2015, 2019): # Kleiner Loop, um die Range zu bestimmen\n",
    "    \n",
    "    url = base + action + \"starttime=\" + str(jahr) + \"-08-01&endtime=\" + str(jahr) + \"-08-31\"\n",
    "    \n",
    "    response = requests.get(url)\n",
    "    print(str(jahr) + \":\" + str(response.text))\n",
    "    \n",
    "    minidict = {'Jahr': jahr,\n",
    "               'Anzahl': str(response.text)}\n",
    "    \n",
    "    erdbebenzahl.append(minidict)"
   ]
  },
  {
   "cell_type": "code",
   "execution_count": 112,
   "metadata": {},
   "outputs": [
    {
     "data": {
      "text/html": [
       "<div>\n",
       "<style scoped>\n",
       "    .dataframe tbody tr th:only-of-type {\n",
       "        vertical-align: middle;\n",
       "    }\n",
       "\n",
       "    .dataframe tbody tr th {\n",
       "        vertical-align: top;\n",
       "    }\n",
       "\n",
       "    .dataframe thead th {\n",
       "        text-align: right;\n",
       "    }\n",
       "</style>\n",
       "<table border=\"1\" class=\"dataframe\">\n",
       "  <thead>\n",
       "    <tr style=\"text-align: right;\">\n",
       "      <th></th>\n",
       "      <th>Anzahl</th>\n",
       "      <th>Jahr</th>\n",
       "    </tr>\n",
       "  </thead>\n",
       "  <tbody>\n",
       "    <tr>\n",
       "      <th>0</th>\n",
       "      <td>9981</td>\n",
       "      <td>2015</td>\n",
       "    </tr>\n",
       "    <tr>\n",
       "      <th>1</th>\n",
       "      <td>10878</td>\n",
       "      <td>2016</td>\n",
       "    </tr>\n",
       "    <tr>\n",
       "      <th>2</th>\n",
       "      <td>12300</td>\n",
       "      <td>2017</td>\n",
       "    </tr>\n",
       "    <tr>\n",
       "      <th>3</th>\n",
       "      <td>17045</td>\n",
       "      <td>2018</td>\n",
       "    </tr>\n",
       "  </tbody>\n",
       "</table>\n",
       "</div>"
      ],
      "text/plain": [
       "  Anzahl  Jahr\n",
       "0   9981  2015\n",
       "1  10878  2016\n",
       "2  12300  2017\n",
       "3  17045  2018"
      ]
     },
     "execution_count": 112,
     "metadata": {},
     "output_type": "execute_result"
    }
   ],
   "source": [
    "pd.DataFrame(erdbebenzahl)"
   ]
  },
  {
   "cell_type": "code",
   "execution_count": 122,
   "metadata": {},
   "outputs": [
    {
     "name": "stdout",
     "output_type": "stream",
     "text": [
      "['9981', '10878', '12300', '17045']\n"
     ]
    }
   ],
   "source": [
    "#meine Lösung. \n",
    "liste_beben=[]\n",
    "for year in range(2015,2019):\n",
    "    r= requests.get(\"https://earthquake.usgs.gov/fdsnws/event/1/count?starttime=\" +str(year)+\"-08-01&endtime=\"+ str(year)+\"-08-31\")\n",
    "  \n",
    "    liste_beben.append(r.text)\n",
    "print(liste_beben)\n",
    "    \n",
    "#print umbedingt wie hier gemacht wieder aus dem Loop nehmen, sonst druckt er jedesmal aus.\n"
   ]
  },
  {
   "cell_type": "code",
   "execution_count": 123,
   "metadata": {},
   "outputs": [
    {
     "data": {
      "text/html": [
       "<div>\n",
       "<style scoped>\n",
       "    .dataframe tbody tr th:only-of-type {\n",
       "        vertical-align: middle;\n",
       "    }\n",
       "\n",
       "    .dataframe tbody tr th {\n",
       "        vertical-align: top;\n",
       "    }\n",
       "\n",
       "    .dataframe thead th {\n",
       "        text-align: right;\n",
       "    }\n",
       "</style>\n",
       "<table border=\"1\" class=\"dataframe\">\n",
       "  <thead>\n",
       "    <tr style=\"text-align: right;\">\n",
       "      <th></th>\n",
       "      <th>0</th>\n",
       "    </tr>\n",
       "  </thead>\n",
       "  <tbody>\n",
       "    <tr>\n",
       "      <th>0</th>\n",
       "      <td>9981</td>\n",
       "    </tr>\n",
       "    <tr>\n",
       "      <th>1</th>\n",
       "      <td>10878</td>\n",
       "    </tr>\n",
       "    <tr>\n",
       "      <th>2</th>\n",
       "      <td>12300</td>\n",
       "    </tr>\n",
       "    <tr>\n",
       "      <th>3</th>\n",
       "      <td>17045</td>\n",
       "    </tr>\n",
       "  </tbody>\n",
       "</table>\n",
       "</div>"
      ],
      "text/plain": [
       "       0\n",
       "0   9981\n",
       "1  10878\n",
       "2  12300\n",
       "3  17045"
      ]
     },
     "execution_count": 123,
     "metadata": {},
     "output_type": "execute_result"
    }
   ],
   "source": [
    "pd.DataFrame(liste_beben)"
   ]
  },
  {
   "cell_type": "markdown",
   "metadata": {},
   "source": [
    "3. Zeige nur die Erdbeben an, die in den letzten 5 Jahren eine Mindeststärke von 5,5 hatten? (Neue Parameter kannst Du mit den Zeichen \"&\" ergänzen. Lese Dich in die Dokumentation ein, um noch mehr Parameter kennezulernen)"
   ]
  },
  {
   "cell_type": "code",
   "execution_count": 174,
   "metadata": {
    "scrolled": true
   },
   "outputs": [
    {
     "data": {
      "text/plain": [
       "'2255'"
      ]
     },
     "execution_count": 174,
     "metadata": {},
     "output_type": "execute_result"
    }
   ],
   "source": [
    "erdbeben_55 = requests.get('https://earthquake.usgs.gov/fdsnws/event/1/count?starttime=2014-09-01&endtime=2019-09-23&minmagnitude=5.5')\n",
    "erdbeben_55.text"
   ]
  },
  {
   "cell_type": "markdown",
   "metadata": {},
   "source": [
    "4. Zeige eine Liste der 10 stärksten Erdbeben des laufenden Jahres an. (Nicht vergessen, nun musst Du die Methode wechseln. Nicht mehr \"count\", sondern \"query\")."
   ]
  },
  {
   "cell_type": "code",
   "execution_count": 200,
   "metadata": {},
   "outputs": [],
   "source": [
    "erdbeben = requests.get(\"https://earthquake.usgs.gov/fdsnws/event/1/query?format=geojson&starttime=2019-01-01&endtime=2019-09-24&minmagnitude=5.5\")\n",
    "erdbeben = erdbeben.json()\n",
    "erdbeben.keys()\n",
    "erdbebenliste = erdbeben['features']\n",
    "leereliste = []\n",
    "for erdbeben in erdbebenliste:\n",
    "    mag=erdbeben[\"properties\"][\"mag\"]\n",
    "    #print (mag)\n",
    "    try:\n",
    "        if mag >= 5.5:\n",
    "            leereliste.append(mag)\n",
    "    except:\n",
    "        if None:\n",
    "            continue"
   ]
  },
  {
   "cell_type": "code",
   "execution_count": 201,
   "metadata": {},
   "outputs": [],
   "source": [
    "leereliste.sort()"
   ]
  },
  {
   "cell_type": "code",
   "execution_count": 202,
   "metadata": {},
   "outputs": [
    {
     "data": {
      "text/plain": [
       "323"
      ]
     },
     "execution_count": 202,
     "metadata": {},
     "output_type": "execute_result"
    }
   ],
   "source": [
    "len(leereliste)"
   ]
  },
  {
   "cell_type": "code",
   "execution_count": 205,
   "metadata": {},
   "outputs": [
    {
     "data": {
      "text/plain": [
       "[6.9, 7, 7.1, 7.1, 7.2, 7.3, 7.3, 7.5, 7.6, 8]"
      ]
     },
     "execution_count": 205,
     "metadata": {},
     "output_type": "execute_result"
    }
   ],
   "source": [
    "leereliste[-10:]"
   ]
  },
  {
   "cell_type": "markdown",
   "metadata": {},
   "source": [
    "5. Wo haben sich diese Erdbeben ereignet?"
   ]
  },
  {
   "cell_type": "code",
   "execution_count": 227,
   "metadata": {},
   "outputs": [
    {
     "data": {
      "text/html": [
       "<div>\n",
       "<style scoped>\n",
       "    .dataframe tbody tr th:only-of-type {\n",
       "        vertical-align: middle;\n",
       "    }\n",
       "\n",
       "    .dataframe tbody tr th {\n",
       "        vertical-align: top;\n",
       "    }\n",
       "\n",
       "    .dataframe thead th {\n",
       "        text-align: right;\n",
       "    }\n",
       "</style>\n",
       "<table border=\"1\" class=\"dataframe\">\n",
       "  <thead>\n",
       "    <tr style=\"text-align: right;\">\n",
       "      <th></th>\n",
       "      <th>Magnitude:</th>\n",
       "      <th>Place:</th>\n",
       "      <th>Time:</th>\n",
       "    </tr>\n",
       "  </thead>\n",
       "  <tbody>\n",
       "    <tr>\n",
       "      <th>12</th>\n",
       "      <td>8.0</td>\n",
       "      <td>78km SE of Lagunas, Peru</td>\n",
       "      <td>2019-05-26 07:41:15</td>\n",
       "    </tr>\n",
       "    <tr>\n",
       "      <th>13</th>\n",
       "      <td>7.6</td>\n",
       "      <td>46km SSE of Namatanai, Papua New Guinea</td>\n",
       "      <td>2019-05-14 12:58:25</td>\n",
       "    </tr>\n",
       "    <tr>\n",
       "      <th>18</th>\n",
       "      <td>7.5</td>\n",
       "      <td>111km ESE of Palora, Ecuador</td>\n",
       "      <td>2019-02-22 10:17:23</td>\n",
       "    </tr>\n",
       "    <tr>\n",
       "      <th>9</th>\n",
       "      <td>7.3</td>\n",
       "      <td>292km NW of Saumlaki, Indonesia</td>\n",
       "      <td>2019-06-24 02:53:39</td>\n",
       "    </tr>\n",
       "    <tr>\n",
       "      <th>10</th>\n",
       "      <td>7.3</td>\n",
       "      <td>116km NE of L'Esperance Rock, New Zealand</td>\n",
       "      <td>2019-06-15 22:55:04</td>\n",
       "    </tr>\n",
       "    <tr>\n",
       "      <th>5</th>\n",
       "      <td>7.2</td>\n",
       "      <td>93km NNE of Laiwui, Indonesia</td>\n",
       "      <td>2019-07-14 09:10:51</td>\n",
       "    </tr>\n",
       "    <tr>\n",
       "      <th>8</th>\n",
       "      <td>7.1</td>\n",
       "      <td>2019 Ridgecrest Earthquake Sequence</td>\n",
       "      <td>2019-07-06 03:19:53</td>\n",
       "    </tr>\n",
       "    <tr>\n",
       "      <th>14</th>\n",
       "      <td>7.1</td>\n",
       "      <td>33km NW of Bulolo, Papua New Guinea</td>\n",
       "      <td>2019-05-06 21:19:37</td>\n",
       "    </tr>\n",
       "    <tr>\n",
       "      <th>17</th>\n",
       "      <td>7.0</td>\n",
       "      <td>23km NNE of Azangaro, Peru</td>\n",
       "      <td>2019-03-01 08:50:42</td>\n",
       "    </tr>\n",
       "    <tr>\n",
       "      <th>2</th>\n",
       "      <td>6.9</td>\n",
       "      <td>106km WSW of Tugu Hilir, Indonesia</td>\n",
       "      <td>2019-08-02 12:03:26</td>\n",
       "    </tr>\n",
       "  </tbody>\n",
       "</table>\n",
       "</div>"
      ],
      "text/plain": [
       "    Magnitude:                                     Place:   \\\n",
       "12          8.0                   78km SE of Lagunas, Peru   \n",
       "13          7.6    46km SSE of Namatanai, Papua New Guinea   \n",
       "18          7.5               111km ESE of Palora, Ecuador   \n",
       "9           7.3            292km NW of Saumlaki, Indonesia   \n",
       "10          7.3  116km NE of L'Esperance Rock, New Zealand   \n",
       "5           7.2              93km NNE of Laiwui, Indonesia   \n",
       "8           7.1        2019 Ridgecrest Earthquake Sequence   \n",
       "14          7.1        33km NW of Bulolo, Papua New Guinea   \n",
       "17          7.0                 23km NNE of Azangaro, Peru   \n",
       "2           6.9         106km WSW of Tugu Hilir, Indonesia   \n",
       "\n",
       "                 Time:   \n",
       "12  2019-05-26 07:41:15  \n",
       "13  2019-05-14 12:58:25  \n",
       "18  2019-02-22 10:17:23  \n",
       "9   2019-06-24 02:53:39  \n",
       "10  2019-06-15 22:55:04  \n",
       "5   2019-07-14 09:10:51  \n",
       "8   2019-07-06 03:19:53  \n",
       "14  2019-05-06 21:19:37  \n",
       "17  2019-03-01 08:50:42  \n",
       "2   2019-08-02 12:03:26  "
      ]
     },
     "execution_count": 227,
     "metadata": {},
     "output_type": "execute_result"
    }
   ],
   "source": [
    "# Wir kennen nun wo sich die 10 stärksten (mag), wann (time) und an welchem Ort (place) ereignet haben. \n",
    "\n",
    "from datetime import datetime\n",
    "\n",
    "erdbeben_max = requests.get('https://earthquake.usgs.gov/fdsnws/event/1/query?format=geojson&starttime=2019-01-01&endtime=2019-09-24&minmagnitude=6.5')\n",
    "erdbeben_max = erdbeben_max.json() # json macht ein liste von mini-dictionarys - sonst unleserlich.\n",
    "erdbeben_max = erdbeben_max[\"features\"] # In den Features sind die Daten drin, die uns interessieren.\n",
    "\n",
    "top2019 = [] # Leere Liste kreieren.\n",
    "\n",
    "for beben in erdbeben_max: # Loop: suche nach mag, place, time.\n",
    "    magnitude = beben[\"properties\"][\"mag\"]\n",
    "    place = beben[\"properties\"][\"place\"]\n",
    "    \n",
    "    # So definieren wir die time im Loop.\n",
    "    zeit = str(beben[\"properties\"][\"time\"])[:-3] #[:-3] --> Die letzten drei Ziffern bei der Unixtime müssen weg.\n",
    "    zeit = datetime.utcfromtimestamp(int(zeit)) # Hier wird die Zeitumgewandelt in Time. \n",
    "    zeit = zeit.strftime('%Y-%m-%d %H:%M:%S') # Auf Liste nachgucken!\n",
    "    \n",
    "    mini_dict = {\"Magnitude: \":magnitude, \"Place: \":place, \"Time: \":zeit} # Dict. definieren mit Keys und Values.\n",
    "    \n",
    "    top2019.append(mini_dict) # Leere Liste in einen Dict füllen.\n",
    "    \n",
    "pd.DataFrame(top2019).sort_values(\"Magnitude: \", ascending=False)[:10] #[:10] --> Sind sind die zehn stärksten Erdbeben."
   ]
  },
  {
   "cell_type": "code",
   "execution_count": 230,
   "metadata": {},
   "outputs": [
    {
     "name": "stdout",
     "output_type": "stream",
     "text": [
      "None\n"
     ]
    }
   ],
   "source": [
    "print(top2019.append(mini_dict))"
   ]
  },
  {
   "cell_type": "code",
   "execution_count": null,
   "metadata": {},
   "outputs": [],
   "source": []
  }
 ],
 "metadata": {
  "kernelspec": {
   "display_name": "Python 3",
   "language": "python",
   "name": "python3"
  },
  "language_info": {
   "codemirror_mode": {
    "name": "ipython",
    "version": 3
   },
   "file_extension": ".py",
   "mimetype": "text/x-python",
   "name": "python",
   "nbconvert_exporter": "python",
   "pygments_lexer": "ipython3",
   "version": "3.7.3"
  }
 },
 "nbformat": 4,
 "nbformat_minor": 2
}
