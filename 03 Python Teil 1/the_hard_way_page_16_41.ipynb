{
 "cells": [
  {
   "cell_type": "code",
   "execution_count": 10,
   "metadata": {},
   "outputs": [
    {
     "name": "stdout",
     "output_type": "stream",
     "text": [
      "I will now count my chickens:\n",
      "Hens 30.0\n",
      "Now I will count the eggs:\n",
      "6.75\n",
      "Is it true that 3 + 2 < 5 - 7?\n",
      "False\n",
      "What is 3 + 2? 5\n",
      "What is 5 - 7? -2\n",
      "Oh, thats why its False.\n",
      "How about some more.\n",
      "Is it greater? True\n",
      "Is it greater or equal? True\n",
      "Is it less or equal? False\n"
     ]
    }
   ],
   "source": [
    "print('I will now count my chickens:')\n",
    "#einfache rechnung\n",
    "print('Hens', 25 + 30 / 6)\n",
    "#string was ich mache\n",
    "print('Now I will count the eggs:')\n",
    "#einfache rechnung\n",
    "print(3 + 2 + 1 - 5 + 4 % 2 - 1 / 4 + 6)\n",
    "#einfache rechnung als string formuliert\n",
    "print('Is it true that 3 + 2 < 5 - 7?')\n",
    "#einfache rechnung die false ausspuckt, weils nicht stimmt\n",
    "print(3 + 2 < 5 - 7)\n",
    "#einfache rechnung mit ergebnis\n",
    "print('What is 3 + 2?', 3 + 2)\n",
    "#einfache rechnung mit ergebnis\n",
    "print('What is 5 - 7?', 5 - 7)\n",
    "#ein string\n",
    "print('Oh, thats why its False.')\n",
    "#noch ein string\n",
    "print('How about some more.')\n",
    "#stringt mit gleichung, die als ergebnis ein true auswirft\n",
    "print('Is it greater?', 5 > -2)\n",
    "#stringt mit gleichung, die als ergebnis ein true auswirft\n",
    "print('Is it greater or equal?', 5>= -2)\n",
    "#stringt mit gleichung, die als ergebnis ein false auswirft\n",
    "print('Is it less or equal?', 5<= -2)"
   ]
  },
  {
   "cell_type": "code",
   "execution_count": 20,
   "metadata": {},
   "outputs": [
    {
     "name": "stdout",
     "output_type": "stream",
     "text": [
      "There are 100 cars available.\n",
      "There are only 30 drivers available.\n",
      "There will be 70 empty cars today.\n",
      "We can transport 120.0 people today.\n",
      "We have 90 to carpool today.\n",
      "We need to put about 3.0 in each car.\n"
     ]
    }
   ],
   "source": [
    "#die variable cars hat die grösse 100\n",
    "cars = 100\n",
    "#die variable zeigt den platz in den autos an\n",
    "space_in_a_car = 4.0\n",
    "#die variable drivers hat die grösse 30\n",
    "drivers = 30\n",
    "#die variable passengers hat die grösse 90\n",
    "passengers = 90\n",
    "#hier geben wir der variable eine gleichung\n",
    "cars_not_driven = cars - drivers\n",
    "#hier geben wir der variable eine gleichung\n",
    "cars_driven = drivers\n",
    "#hier geben wir der variable eine gleichung\n",
    "carpool_capacity = cars_driven * space_in_a_car\n",
    "#hier geben wir der variable eine gleichung\n",
    "average_passengers_per_car = passengers / cars_driven\n",
    "\n",
    "print('There are', cars, 'cars available.')\n",
    "print('There are only', drivers, 'drivers available.')\n",
    "print('There will be', cars_not_driven, 'empty cars today.')\n",
    "print('We can transport', carpool_capacity, 'people today.')\n",
    "print('We have', passengers, 'to carpool today.')\n",
    "print('We need to put about', average_passengers_per_car, 'in each car.')"
   ]
  },
  {
   "cell_type": "code",
   "execution_count": 35,
   "metadata": {},
   "outputs": [
    {
     "name": "stdout",
     "output_type": "stream",
     "text": [
      "Lets talk about {my_name}.\n",
      "Hes {my_height} centimeter tall.\n",
      "Hes {my_weight} kilo heavy\n",
      "Hes eyes are {my_eyes} and he has {my_hair} hair and {my_teeth} teeth.\n"
     ]
    }
   ],
   "source": [
    "my_name = 'Sven J. Zaugg'\n",
    "my_age = 39 \n",
    "my_height = 175\n",
    "my_weight = 89\n",
    "my_eyes = 'Green'\n",
    "my_teeth = 'White'\n",
    "my_hair = 'Blonde'\n",
    "\n",
    "print('Lets talk about {my_name}.')\n",
    "print('Hes {my_height} centimeter tall.')\n",
    "print('Hes {my_weight} kilo heavy')\n",
    "print('Hes eyes are {my_eyes} and he has {my_hair} hair and {my_teeth} teeth.')"
   ]
  },
  {
   "cell_type": "code",
   "execution_count": 57,
   "metadata": {},
   "outputs": [
    {
     "name": "stdout",
     "output_type": "stream",
     "text": [
      "There are 10 types of people.\n",
      "Those who know binary and those who dont.\n",
      "I said: There are 10 types of people.\n",
      "I also said Those who know binary and those who dont.\n",
      "Isnt that joke so funny?! False\n",
      "This is the left side of...a string with a right side.\n"
     ]
    }
   ],
   "source": [
    "#das ist unsere variable\n",
    "types_of_people = 10\n",
    "#hier betten wir die variable in einen string (satz) ein\n",
    "x = f'There are {types_of_people} types of people.'\n",
    "\n",
    "#das sind unsere variablen\n",
    "binary = 'binary'\n",
    "do_not = 'dont'\n",
    "\n",
    "#hier betten wir die variable in einen string (satz) ein\n",
    "y = f'Those who know {binary} and those who {do_not}.'\n",
    "\n",
    "print(x)\n",
    "print(y)\n",
    "\n",
    "print(f'I said: {x}')\n",
    "print(f'I also said {y}')\n",
    "\n",
    "#hier schreiben wir eine gleichung, nämlich das hilarious falsch ist\n",
    "\n",
    "hilarious = False\n",
    "#hier schreiben wir die gleichung, dass der joke nicht funny ist\n",
    "joke_evaluation = 'Isnt that joke so funny?! {}'\n",
    "\n",
    "print(joke_evaluation.format(hilarious))\n",
    "\n",
    "w = 'This is the left side of...'\n",
    "e = 'a string with a right side.'\n",
    "\n",
    "print(w + e)"
   ]
  },
  {
   "cell_type": "code",
   "execution_count": 61,
   "metadata": {},
   "outputs": [
    {
     "name": "stdout",
     "output_type": "stream",
     "text": [
      "Mary had a little lamb.\n",
      "Its fleece was white as snow.\n",
      "And everywhere that Mary went.\n",
      "..........\n",
      "CheeseBurger\n"
     ]
    }
   ],
   "source": [
    "print('Mary had a little lamb.')\n",
    "print('Its fleece was white as {}.'.format('snow'))\n",
    "print('And everywhere that Mary went.')\n",
    "print('.' * 10) #was macht das?\n",
    "\n",
    "end1 = 'C'\n",
    "end2 = 'h'\n",
    "end3 = 'e'\n",
    "end4 = 'e'\n",
    "end5 = 's'\n",
    "end6 = 'e'\n",
    "end7 = 'B'\n",
    "end8 = 'u'\n",
    "end9 = 'r'\n",
    "end10 = 'g'\n",
    "end11 = 'e'\n",
    "end12 = 'r'\n",
    "\n",
    "print(end1 + end2 + end3 + end4 + end5 + end6, end='')\n",
    "print(end7 + end8 + end9 + end10 + end11 + end12)"
   ]
  },
  {
   "cell_type": "code",
   "execution_count": 80,
   "metadata": {},
   "outputs": [
    {
     "name": "stdout",
     "output_type": "stream",
     "text": [
      "1234\n",
      "onetwothreefour\n",
      "TrueFalseFalseTrue\n",
      "{}{}{}{}{}{}{}{}{}{}{}{}{}{}{}{}\n",
      "Try yourOwn text hereMaybe a poemOr a song about fear\n"
     ]
    }
   ],
   "source": [
    "formatter = '{}{}{}{}'\n",
    "\n",
    "print(formatter.format(1,2,3,4))\n",
    "print(formatter.format('one', 'two', 'three', 'four'))\n",
    "print(formatter.format(True, False, False, True))\n",
    "print(formatter.format(formatter, formatter, formatter, formatter))\n",
    "print(formatter.format(\n",
    "'Try your', \n",
    "'Own text here',\n",
    "'Maybe a poem',\n",
    "'Or a song about fear'\n",
    "))\n",
    "\n",
    "      "
   ]
  },
  {
   "cell_type": "code",
   "execution_count": 93,
   "metadata": {},
   "outputs": [
    {
     "name": "stdout",
     "output_type": "stream",
     "text": [
      "Here are the days: Mon Tue Wed Thu Fri Sat Sun\n",
      "Here are the months: \n",
      "Jan\n",
      "Feb\n",
      "Mar\n",
      "Apr\n",
      "May\n",
      "Jun\n",
      "Jul\n",
      "Aug\n",
      "Theres something going on here. \n",
      "With the three double-quotes. \n",
      "We'll be able to type as much as we like. \n",
      "Even 4 lines if we want, or 5, or 6.\n"
     ]
    }
   ],
   "source": [
    "days = 'Mon Tue Wed Thu Fri Sat Sun'\n",
    "#n vor den monaten ist für eine neue line beim print gedacht\n",
    "months = '\\nJan\\nFeb\\nMar\\nApr\\nMay\\nJun\\nJul\\nAug'\n",
    "\n",
    "print('Here are the days:', days)\n",
    "print('Here are the months:', months)\n",
    "\n",
    "print('''Theres something going on here. \n",
    "With the three double-quotes. \n",
    "We'll be able to type as much as we like. \n",
    "Even 4 lines if we want, or 5, or 6.''')"
   ]
  },
  {
   "cell_type": "code",
   "execution_count": 96,
   "metadata": {},
   "outputs": [
    {
     "name": "stdout",
     "output_type": "stream",
     "text": [
      "How old are you?29\n",
      "How tall are you?169\n",
      "How much do you weight?64\n",
      "So, youre 29 old, 169 tall and 64 heavy.\n"
     ]
    }
   ],
   "source": [
    "print('How old are you?', end='')\n",
    "age = input()\n",
    "print('How tall are you?', end='')\n",
    "height = input ()\n",
    "print('How much do you weight?', end='')\n",
    "weight = input ()\n",
    "\n",
    "print(f'So, youre {age} old, {height} tall and {weight} heavy.')"
   ]
  },
  {
   "cell_type": "code",
   "execution_count": 99,
   "metadata": {},
   "outputs": [
    {
     "name": "stdout",
     "output_type": "stream",
     "text": [
      "How old are you? 39\n",
      "How tall are you? 175\n",
      "How much do you weigh? 89\n",
      "So, youre 39 old, 175 tall and 89 heavy.\n"
     ]
    }
   ],
   "source": [
    "age = input('How old are you? ')\n",
    "height = input('How tall are you? ')\n",
    "weight = input('How much do you weigh? ')\n",
    "\n",
    "print(f'So, youre {age} old, {height} tall and {weight} heavy.')"
   ]
  },
  {
   "cell_type": "code",
   "execution_count": null,
   "metadata": {},
   "outputs": [],
   "source": []
  }
 ],
 "metadata": {
  "kernelspec": {
   "display_name": "Python 3",
   "language": "python",
   "name": "python3"
  },
  "language_info": {
   "codemirror_mode": {
    "name": "ipython",
    "version": 3
   },
   "file_extension": ".py",
   "mimetype": "text/x-python",
   "name": "python",
   "nbconvert_exporter": "python",
   "pygments_lexer": "ipython3",
   "version": "3.7.3"
  }
 },
 "nbformat": 4,
 "nbformat_minor": 2
}
