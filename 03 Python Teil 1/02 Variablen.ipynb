{
 "cells": [
  {
   "cell_type": "markdown",
   "metadata": {},
   "source": [
    "# Variablen"
   ]
  },
  {
   "cell_type": "markdown",
   "metadata": {},
   "source": [
    "<strong>Variablen</strong> sind ein generell wichtiges Konzept von Programmiersprachen. \n",
    "<br>Du kannst dir eine Variable als eine Art Behälter vorstellen, in dem du z. B. eine Zahl ablegen kannst, um sie später wiederzuverwenden. <br>\n",
    "\n",
    "In Python kannst du eine Variable einführen und ihr einen Wert zuweisen, indem du schreibst: **Variablenname = Zahl**\n",
    "\n",
    "Beachte, dass ein Variablenname **nicht** mit einer Zahl anfangen darf!\n",
    "\n",
    "Konkret kann die Definition einer Variablen etwa so aussehen:"
   ]
  },
  {
   "cell_type": "code",
   "execution_count": null,
   "metadata": {},
   "outputs": [],
   "source": [
    "a = 5"
   ]
  },
  {
   "cell_type": "markdown",
   "metadata": {},
   "source": [
    "Statt eines Wertes darf rechts vom Gleichheitszeichen auch eine Rechnung stehen, die als Ergebnis eine Zahl liefert: "
   ]
  },
  {
   "cell_type": "code",
   "execution_count": null,
   "metadata": {},
   "outputs": [],
   "source": []
  },
  {
   "cell_type": "code",
   "execution_count": null,
   "metadata": {},
   "outputs": [],
   "source": [
    "b = 5 + 6"
   ]
  },
  {
   "cell_type": "code",
   "execution_count": null,
   "metadata": {},
   "outputs": [],
   "source": [
    "print = \"ljngdlfjgn\"\n"
   ]
  },
  {
   "cell_type": "code",
   "execution_count": null,
   "metadata": {},
   "outputs": [],
   "source": [
    "type(print)"
   ]
  },
  {
   "cell_type": "code",
   "execution_count": null,
   "metadata": {},
   "outputs": [],
   "source": [
    "del print"
   ]
  },
  {
   "cell_type": "code",
   "execution_count": null,
   "metadata": {},
   "outputs": [],
   "source": [
    "type(print)"
   ]
  },
  {
   "cell_type": "code",
   "execution_count": null,
   "metadata": {},
   "outputs": [],
   "source": [
    "print(b)"
   ]
  },
  {
   "cell_type": "markdown",
   "metadata": {},
   "source": [
    "An einer anderen Stelle im Programm greifst du dann über den Variablennamen auf die Zahl zu. Du kannst die Variable etwa in einem print()-Befehl verwenden:"
   ]
  },
  {
   "cell_type": "code",
   "execution_count": null,
   "metadata": {
    "scrolled": true
   },
   "outputs": [],
   "source": [
    "print(a)"
   ]
  },
  {
   "cell_type": "markdown",
   "metadata": {},
   "source": [
    "Du kannst auch mit Variablen, in denen Zahlen gespeichert sind, rechnen:"
   ]
  },
  {
   "cell_type": "code",
   "execution_count": null,
   "metadata": {},
   "outputs": [],
   "source": [
    "print(a * a)"
   ]
  },
  {
   "cell_type": "code",
   "execution_count": null,
   "metadata": {},
   "outputs": [],
   "source": [
    "b = 5\n",
    "print(b * b * b)"
   ]
  },
  {
   "cell_type": "code",
   "execution_count": null,
   "metadata": {},
   "outputs": [],
   "source": [
    "# das Durchschnittsalter berechnen\n",
    "\n",
    "age = 21\n",
    "age2 = 18\n",
    "\n",
    "print((age + age2) / 2)"
   ]
  },
  {
   "cell_type": "code",
   "execution_count": null,
   "metadata": {},
   "outputs": [],
   "source": [
    "# Statt in print() zu rechnen, können wir das Ergebnis auch erst in einer Variablen zwischenspeichern\n",
    "\n",
    "average_age = (age + age2) / 2"
   ]
  },
  {
   "cell_type": "code",
   "execution_count": null,
   "metadata": {},
   "outputs": [],
   "source": [
    "print(average_age)"
   ]
  },
  {
   "cell_type": "markdown",
   "metadata": {},
   "source": [
    "## Übung\n",
    "Löse folgende Aufgabe mit variablen: \n",
    "* In einem Zug befindet sich eine unbestimmte Zahl von Menschen.\n",
    "* Beim ersten Stopp steigen 19 Personen aus.\n",
    "* 17 Personen steigen ein.\n",
    "* Jetzt sind 63 Personen im Zug.\n",
    "* Wie viele Menschen waren am Anfang im Zug?\n",
    "[Watson berichtet!](https://www.watson.ch/wissen/populärkultur/943887508-matheaufgabe-fuer-7-jaehrige-bringt-alle-zum-verzweifeln-kannst-du-sie-loesen-)"
   ]
  },
  {
   "cell_type": "markdown",
   "metadata": {},
   "source": [
    "Wichtig: Variable = stop = 19 oder -17 / Variable = ende = 63 / Variable = zug = ende + stopp + stop2"
   ]
  },
  {
   "cell_type": "code",
   "execution_count": 3,
   "metadata": {},
   "outputs": [],
   "source": [
    "stop1 = -19\n",
    "stop2 = +17\n",
    "ende = 63\n",
    "\n",
    "zug = (ende + stop1 + stop2)"
   ]
  },
  {
   "cell_type": "code",
   "execution_count": 4,
   "metadata": {},
   "outputs": [
    {
     "name": "stdout",
     "output_type": "stream",
     "text": [
      "61\n"
     ]
    }
   ],
   "source": [
    "print(zug)"
   ]
  },
  {
   "cell_type": "markdown",
   "metadata": {},
   "source": [
    "Oder:"
   ]
  },
  {
   "cell_type": "code",
   "execution_count": null,
   "metadata": {},
   "outputs": [],
   "source": []
  },
  {
   "cell_type": "code",
   "execution_count": null,
   "metadata": {},
   "outputs": [],
   "source": []
  }
 ],
 "metadata": {
  "kernelspec": {
   "display_name": "Python 3",
   "language": "python",
   "name": "python3"
  },
  "language_info": {
   "codemirror_mode": {
    "name": "ipython",
    "version": 3
   },
   "file_extension": ".py",
   "mimetype": "text/x-python",
   "name": "python",
   "nbconvert_exporter": "python",
   "pygments_lexer": "ipython3",
   "version": "3.7.3"
  }
 },
 "nbformat": 4,
 "nbformat_minor": 2
}
