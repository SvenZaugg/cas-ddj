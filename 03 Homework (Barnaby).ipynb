{
 "cells": [
  {
   "cell_type": "markdown",
   "metadata": {},
   "source": [
    "# Hausaufgaben Einstieg in Python - Lektion 2"
   ]
  },
  {
   "cell_type": "markdown",
   "metadata": {},
   "source": [
    "1.Kreiere eine Liste aus Zahlen, die aus 10 Elementen besteht, und ordne sie der Variabel a zu."
   ]
  },
  {
   "cell_type": "code",
   "execution_count": 1,
   "metadata": {},
   "outputs": [],
   "source": [
    "a=[10,20,30,40,50,60,70,80,90,0]"
   ]
  },
  {
   "cell_type": "code",
   "execution_count": 2,
   "metadata": {},
   "outputs": [
    {
     "data": {
      "text/plain": [
       "[10, 20, 30, 40, 50, 60, 70, 80, 90, 0]"
      ]
     },
     "execution_count": 2,
     "metadata": {},
     "output_type": "execute_result"
    }
   ],
   "source": [
    "a"
   ]
  },
  {
   "cell_type": "code",
   "execution_count": 3,
   "metadata": {},
   "outputs": [
    {
     "data": {
      "text/plain": [
       "['a', 'b', 'c', 'd', 'e', 'f', 'g', 'h', 'i', 'j']"
      ]
     },
     "execution_count": 3,
     "metadata": {},
     "output_type": "execute_result"
    }
   ],
   "source": [
    "#Falls Du mit Buchstaben arbeiten willst gibt auch eine wunderbares Python Library, die heisst String und geht so:\n",
    "import string\n",
    "a = string.ascii_lowercase\n",
    "a = list(a)[:10]\n",
    "a"
   ]
  },
  {
   "cell_type": "markdown",
   "metadata": {},
   "source": [
    "2. Kreiere eine List aus Zahlen, die aus 100 Elementn besteht, und ordne sie der Variabel b zu."
   ]
  },
  {
   "cell_type": "code",
   "execution_count": 8,
   "metadata": {},
   "outputs": [],
   "source": [
    "b=[1,2,3,4,5,6,7,8,9,10,1,2,3,4,5,6,7,8,9,10,1,2,3,4,5,6,7,8,9,10,1,2,3,4,5,6,7,8,9,10,1,2,3,4,5,6,7,8,9,10,1,2,3,4,5,6,7,8,9,10,1,2,3,4,5,6,7,8,9,10,1,2,3,4,5,6,7,8,9,10,1,2,3,4,5,6,7,8,9,10,1,2,3,4,5,6,7,8,9,10]"
   ]
  },
  {
   "cell_type": "code",
   "execution_count": 4,
   "metadata": {},
   "outputs": [],
   "source": [
    "#oder:\n",
    "b = list(range(100))"
   ]
  },
  {
   "cell_type": "markdown",
   "metadata": {},
   "source": [
    "3.Füge beiden Listen folgenden String an: 'ich bin keine Zahl'"
   ]
  },
  {
   "cell_type": "code",
   "execution_count": 5,
   "metadata": {},
   "outputs": [],
   "source": [
    "a.append (\"ich bin keine Zahl\")"
   ]
  },
  {
   "cell_type": "code",
   "execution_count": 6,
   "metadata": {},
   "outputs": [],
   "source": [
    "b.append (\"ich bin keine Zahl\")"
   ]
  },
  {
   "cell_type": "markdown",
   "metadata": {},
   "source": [
    "4.Lösche diesen letzten Eintrag in der Liste wieder"
   ]
  },
  {
   "cell_type": "code",
   "execution_count": 7,
   "metadata": {},
   "outputs": [],
   "source": [
    "a.remove (\"ich bin keine Zahl\")"
   ]
  },
  {
   "cell_type": "code",
   "execution_count": 8,
   "metadata": {},
   "outputs": [],
   "source": [
    "b.remove (\"ich bin keine Zahl\")"
   ]
  },
  {
   "cell_type": "code",
   "execution_count": null,
   "metadata": {},
   "outputs": [],
   "source": [
    "#oder mit .pop() arbeiten"
   ]
  },
  {
   "cell_type": "markdown",
   "metadata": {},
   "source": [
    "5.Verwandle jede Zahl in den Listen a und b von int in str?"
   ]
  },
  {
   "cell_type": "code",
   "execution_count": 27,
   "metadata": {},
   "outputs": [
    {
     "data": {
      "text/plain": [
       "'10'"
      ]
     },
     "execution_count": 27,
     "metadata": {},
     "output_type": "execute_result"
    }
   ],
   "source": [
    "str(a) #Verwandelt die ganze Liste in einen String, nicht einzelne Zahlen"
   ]
  },
  {
   "cell_type": "code",
   "execution_count": 10,
   "metadata": {},
   "outputs": [],
   "source": [
    "#Der Loop geht so\n",
    "new_a = []\n",
    "for zahl in a:\n",
    "    new_a.append(str(zahl))"
   ]
  },
  {
   "cell_type": "markdown",
   "metadata": {},
   "source": [
    "6.Von der list b, zeige nur die letzten zehn Nummern an"
   ]
  },
  {
   "cell_type": "code",
   "execution_count": 11,
   "metadata": {},
   "outputs": [
    {
     "data": {
      "text/plain": [
       "[90, 91, 92, 93, 94, 95, 96, 97, 98, 99]"
      ]
     },
     "execution_count": 11,
     "metadata": {},
     "output_type": "execute_result"
    }
   ],
   "source": [
    "b[90:100]"
   ]
  },
  {
   "cell_type": "code",
   "execution_count": 12,
   "metadata": {},
   "outputs": [
    {
     "data": {
      "text/plain": [
       "[90, 91, 92, 93, 94, 95, 96, 97, 98, 99]"
      ]
     },
     "execution_count": 12,
     "metadata": {},
     "output_type": "execute_result"
    }
   ],
   "source": [
    "#besser\n",
    "b[-10:]"
   ]
  },
  {
   "cell_type": "markdown",
   "metadata": {},
   "source": [
    "7.Von der folgenden Liste, zeige den zweit grössten Wert an"
   ]
  },
  {
   "cell_type": "code",
   "execution_count": 13,
   "metadata": {},
   "outputs": [
    {
     "data": {
      "text/plain": [
       "98"
      ]
     },
     "execution_count": 13,
     "metadata": {},
     "output_type": "execute_result"
    }
   ],
   "source": [
    "b[-2]"
   ]
  },
  {
   "cell_type": "code",
   "execution_count": 14,
   "metadata": {},
   "outputs": [
    {
     "data": {
      "text/plain": [
       "98"
      ]
     },
     "execution_count": 14,
     "metadata": {},
     "output_type": "execute_result"
    }
   ],
   "source": [
    "#um sicher zu gehen, dass Du wirlich den zweihöchsten Wert hast, und nicht nur den zweit letzten\n",
    "sorted(b)[-2]"
   ]
  },
  {
   "cell_type": "markdown",
   "metadata": {},
   "source": [
    "8.Multipliziere jede Nummer in dieser Liste, die kleiner ist als 100, mit 100; wenn die Nummern zwischen 100 und 1000 verwandle sie in eine String, und wenn sie grösser oder gleich 1000 ist, lösche sie."
   ]
  },
  {
   "cell_type": "code",
   "execution_count": 15,
   "metadata": {},
   "outputs": [],
   "source": [
    "#Diesen Stoff haben noch nicht behandelt, hier brauchs Du if, else. Ausehene tut es so:\n",
    "c = list(range(50, 151))\n",
    "c.append(1000)\n",
    "c.append(1001)\n",
    "new_c = []\n",
    "\n",
    "for item in c:\n",
    "    if item < 100:\n",
    "        item = item*100\n",
    "    elif item > 100 and item < 1000:\n",
    "        item = str(item)\n",
    "    else:\n",
    "        item = 0\n",
    "    new_c.append(item)"
   ]
  },
  {
   "cell_type": "markdown",
   "metadata": {},
   "source": [
    "9.Schreibe eine Dictionary-Liste der fünf grössten Schweizer Städte, ihrer Bevölkerung und dem jeweiligen Kanton."
   ]
  },
  {
   "cell_type": "code",
   "execution_count": 16,
   "metadata": {},
   "outputs": [],
   "source": [
    "citylist=[{\"Name\": \"Zurich\", \"Bewohner\": 10000}, \n",
    "          {\"Name\": \"Genf\", \"Bewohner\": 5000}, \n",
    "          {\"Name\": \"Solothurn\", \"Bewohner\": 2000},\n",
    "          {\"Name\": \"Basel\", \"Bewohner\": 1000},\n",
    "          {\"Name\": \"Bern\", \"Bewohner\": 500}]"
   ]
  },
  {
   "cell_type": "markdown",
   "metadata": {},
   "source": [
    "10.Zeige nur die Bevölkerung der Stadt Genf an"
   ]
  },
  {
   "cell_type": "code",
   "execution_count": 17,
   "metadata": {},
   "outputs": [
    {
     "data": {
      "text/plain": [
       "5000"
      ]
     },
     "execution_count": 17,
     "metadata": {},
     "output_type": "execute_result"
    }
   ],
   "source": [
    "citylist[1][\"Bewohner\"]"
   ]
  },
  {
   "cell_type": "markdown",
   "metadata": {},
   "source": [
    "11.Drucke (print) das Total der Bevölkerungen aller Städte aus"
   ]
  },
  {
   "cell_type": "code",
   "execution_count": 18,
   "metadata": {},
   "outputs": [
    {
     "name": "stdout",
     "output_type": "stream",
     "text": [
      "18500\n"
     ]
    }
   ],
   "source": [
    "total=0\n",
    "for city in citylist:\n",
    "    total=total+city [\"Bewohner\"]\n",
    "    #print(total)\n",
    "print(total)"
   ]
  },
  {
   "cell_type": "markdown",
   "metadata": {},
   "source": [
    "12.Rechne den Anteil der Bevölkerung der jeweiligen Städte an der Gesamtbevölkerung der Schweiz aus und \"print\" die Ergebnisse neben dem Städtenamen"
   ]
  },
  {
   "cell_type": "code",
   "execution_count": 22,
   "metadata": {},
   "outputs": [
    {
     "name": "stdout",
     "output_type": "stream",
     "text": [
      "Die Stadt Zürich macht 4.7034085510688834 Prozent aus\n",
      "Die Stadt Genf macht 2.310748218527316 Prozent aus\n",
      "Die Stadt Basel macht 2.079940617577197 Prozent aus\n",
      "Die Stadt Bern macht 1.6702375296912115 Prozent aus\n",
      "Die Stadt Lausanne macht 1.6107957244655584 Prozent aus\n"
     ]
    }
   ],
   "source": [
    "dict_städte = [{\"Stadt\":\"Zürich\", \"Bevölkerung\":396027, \"Kanton\":\"Zürich\"},\n",
    "               {\"Stadt\":\"Genf\", \"Bevölkerung\":194565, \"Kanton\":\"Genf\"},\n",
    "               {\"Stadt\":\"Basel\", \"Bevölkerung\":175131, \"Kanton\":\"Basel\"},\n",
    "               {\"Stadt\":\"Bern\", \"Bevölkerung\":140634, \"Kanton\":\"Bern\"},\n",
    "               {\"Stadt\":\"Lausanne\", \"Bevölkerung\":135629, \"Kanton\":\"Waadt\"}]\n",
    "bev_CH = 8420000\n",
    "\n",
    "for zahl in dict_städte:\n",
    "    print(\"Die Stadt\", str(zahl[\"Stadt\"]), \"macht\", str(zahl[\"Bevölkerung\"]/bev_CH*100), \"Prozent aus\")"
   ]
  },
  {
   "cell_type": "markdown",
   "metadata": {},
   "source": [
    "13.Füge noch die Städte Winterthur und Luzern hinzu"
   ]
  },
  {
   "cell_type": "code",
   "execution_count": 23,
   "metadata": {},
   "outputs": [],
   "source": [
    "dict_städte.append({\"Stadt\":\"Winterthur\", \"Bevölkerung\":109775, \"Kanton\":\"Zürich\"})\n",
    "dict_städte.append({\"Stadt\":\"Luzern\", \"Bevölkerung\":81592, \"Kanton\":\"Luzern\"})"
   ]
  },
  {
   "cell_type": "markdown",
   "metadata": {},
   "source": [
    "14.Ergänze die Städte-Dictionary-Liste mit Winterthur und Luzern"
   ]
  },
  {
   "cell_type": "code",
   "execution_count": null,
   "metadata": {},
   "outputs": [],
   "source": [
    "#Redundant."
   ]
  },
  {
   "cell_type": "markdown",
   "metadata": {},
   "source": [
    "15.Wiederhole den loop von oben, um den Anteil der Bevölkerung an der Gesamtbevölkerung auszurechnen, dieses Mal mit Winterthur und Luzern"
   ]
  },
  {
   "cell_type": "code",
   "execution_count": 24,
   "metadata": {},
   "outputs": [
    {
     "name": "stdout",
     "output_type": "stream",
     "text": [
      "Zürich 4.7034085510688834 Prozent\n",
      "Genf 2.310748218527316 Prozent\n",
      "Basel 2.079940617577197 Prozent\n",
      "Bern 1.6702375296912115 Prozent\n",
      "Lausanne 1.6107957244655584 Prozent\n",
      "Winterthur 1.3037410926365796 Prozent\n",
      "Luzern 0.9690261282660333 Prozent\n"
     ]
    }
   ],
   "source": [
    "for zahl in dict_städte:\n",
    "    print(str(zahl[\"Stadt\"]) + \" \" + str(zahl[\"Bevölkerung\"]/bev_CH*100) + \" Prozent\")"
   ]
  },
  {
   "cell_type": "code",
   "execution_count": null,
   "metadata": {},
   "outputs": [],
   "source": []
  }
 ],
 "metadata": {
  "kernelspec": {
   "display_name": "Python 3",
   "language": "python",
   "name": "python3"
  },
  "language_info": {
   "codemirror_mode": {
    "name": "ipython",
    "version": 3
   },
   "file_extension": ".py",
   "mimetype": "text/x-python",
   "name": "python",
   "nbconvert_exporter": "python",
   "pygments_lexer": "ipython3",
   "version": "3.7.3"
  }
 },
 "nbformat": 4,
 "nbformat_minor": 2
}
