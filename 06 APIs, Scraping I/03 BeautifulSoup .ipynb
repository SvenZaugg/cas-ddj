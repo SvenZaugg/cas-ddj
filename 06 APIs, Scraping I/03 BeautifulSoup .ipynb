{
 "cells": [
  {
   "cell_type": "markdown",
   "metadata": {},
   "source": [
    "# Einführung in BeautifulSoup, einlesen von Files"
   ]
  },
  {
   "cell_type": "markdown",
   "metadata": {},
   "source": [
    "Und als aller Erstes wollen wir die Developer Tools kennenlernen:\n",
    "\n",
    "- Gehen wir auf: www.srf.ch.\n",
    "- Öffnen den Chrome Browser. Die Developer Tools findest DU im Menü unter More Tools -> Developer Tools. Shortcuts: F12, Str-Ctr-I oder Cmd + Opt + I (alle Browser die Dev Tools, wir fokussieren hier auf den Chrome Browser) \n",
    "- Der Reiter, der uns interessiert, ist: “Elements”. Steuere ihn an.\n",
    "- Wir können hier zwischen Mobilansicht und Desktop wechseln\n",
    "- Oder Elemente auf der Website suchen. Wähle den Pfeil an. Und suche nun etwas auf der Website. \n",
    "- Hier können wir auch Texte manipulieren, teste es auf www.srf.ch. \n",
    "- Aber das interessiert uns nicht. Wir wollen die Struktur der Website kennenlernen. Vertiefen wir uns eine Weile in diese Struktur. Je besser wir sie kennen, desto einfacher ist es, Daten auszulesen.\n",
    "- Das sollte euch nun etwas bekannter vorkommen. Ihr habt eben selber solche Zeilen geschrieben. "
   ]
  },
  {
   "cell_type": "markdown",
   "metadata": {},
   "source": [
    "Gehen wir zurück zu dem File, den ihr eben selber bearbeitet habt. Zuerst müssen wir das File einlesen."
   ]
  },
  {
   "cell_type": "code",
   "execution_count": 1,
   "metadata": {},
   "outputs": [],
   "source": [
    "file = open('02 HTML Code.htm', 'r')"
   ]
  },
  {
   "cell_type": "markdown",
   "metadata": {},
   "source": [
    "```open``` ist eine eingebaute Funktion von Python. Ihr findet hier [eine Zusammenstellung](https://docs.python.org/2/library/functions.html) all dieser Funktionen. Es gibt neben ```r```und ```w``` noch die Binary modi. ```rb```und ```wb```. Binary heisst, dass der Computer sich die Buchstaben im Format abspeichert, der ihm am besten liegt. 0 und 1. E = 01000101, F = 01000110, ihr findet mehr [hier](http://sticksandstones.kstrom.com/appen.html) (allerdings Python 2) und mehr [hier](https://docs.python.org/3/tutorial/inputoutput.html)."
   ]
  },
  {
   "cell_type": "code",
   "execution_count": 2,
   "metadata": {},
   "outputs": [],
   "source": [
    "file2 = open('testingopen.txt', 'w')"
   ]
  },
  {
   "cell_type": "markdown",
   "metadata": {},
   "source": [
    "Oben seht ihr das Ergebnis, wenn ihr ein File schreibt. Im selben Ordner wie dieses Jupyter Notebook erscheint nun eben dieses file2. Das einfach der vollständigkeitshalber."
   ]
  },
  {
   "cell_type": "code",
   "execution_count": 3,
   "metadata": {},
   "outputs": [
    {
     "data": {
      "text/plain": [
       "'<h1> CV Sven Zaugg</h1>\\n\\n<img src=\"Sven.jpg\">\\n\\n<!doctype html>\\n<html lang=\"de\">\\n\\n<head>\\n    <title>Journalismus bis zum Umfallen</title>\\n</head>\\n\\n<body style=\"color:blue;\">\\n    <h2>Skills </h2>\\n    <p>Das kann ich: </p>\\n    <ul>\\n    <li>Schuhe binden</li>\\n    <li>Bier trinken</li>\\n    <li>Furzen</li>\\n    <li>Lange, sehr lange schlafen</li>\\n</body style=\"color:blue;\">\\n</ul>\\n<body>\\n<h2>Erfahrunge</h2>\\n<p style=\"color:red;\">Hier steht der Einleitungstext meiner Website. </p>\\n<ul>\\n<li>Erster Listenpunkt</li>\\n<li>Zweiter Listenpunkt</li>\\n<li>Dritter Listenpunkt</li>\\n<li>Vierter Listenpunkt</li>\\n</body>\\n<body style=\"color:red;\">\\n</ul>\\n<h2>Das ist die dritte Überschrift</h2>\\n<p>Hier steht der Einleitungstext meiner Website. </p>\\n<ul>\\n<li>Erster Listenpunkt</li>\\n<li>Zweiter Listenpunkt</li>\\n<li>Dritter Listenpunkt</li>\\n<li>Vierter Listenpunkt</li>\\n</body>\\n'"
      ]
     },
     "execution_count": 3,
     "metadata": {},
     "output_type": "execute_result"
    }
   ],
   "source": [
    "file.read()"
   ]
  },
  {
   "cell_type": "code",
   "execution_count": 4,
   "metadata": {},
   "outputs": [],
   "source": [
    "text = file.read()"
   ]
  },
  {
   "cell_type": "code",
   "execution_count": 5,
   "metadata": {},
   "outputs": [],
   "source": [
    "file = open('02 HTML Code.htm', 'r')"
   ]
  },
  {
   "cell_type": "code",
   "execution_count": 6,
   "metadata": {},
   "outputs": [
    {
     "data": {
      "text/plain": [
       "'<h1> CV Sven Zaugg</h1>\\n'"
      ]
     },
     "execution_count": 6,
     "metadata": {},
     "output_type": "execute_result"
    }
   ],
   "source": [
    "file.readline()"
   ]
  },
  {
   "cell_type": "code",
   "execution_count": 7,
   "metadata": {},
   "outputs": [
    {
     "data": {
      "text/plain": [
       "'<h1> CV Sven Zaugg</h1>\\n\\n<img src=\"Sven.jpg\">\\n\\n<!doctype html>\\n<html lang=\"de\">\\n\\n<head>\\n    <title>Journalismus bis zum Umfallen</title>\\n</head>\\n\\n<body style=\"color:blue;\">\\n    <h2>Skills </h2>\\n    <p>Das kann ich: </p>\\n    <ul>\\n    <li>Schuhe binden</li>\\n    <li>Bier trinken</li>\\n    <li>Furzen</li>\\n    <li>Lange, sehr lange schlafen</li>\\n</body style=\"color:blue;\">\\n</ul>\\n<body>\\n<h2>Erfahrunge</h2>\\n<p style=\"color:red;\">Hier steht der Einleitungstext meiner Website. </p>\\n<ul>\\n<li>Erster Listenpunkt</li>\\n<li>Zweiter Listenpunkt</li>\\n<li>Dritter Listenpunkt</li>\\n<li>Vierter Listenpunkt</li>\\n</body>\\n<body style=\"color:red;\">\\n</ul>\\n<h2>Das ist die dritte Überschrift</h2>\\n<p>Hier steht der Einleitungstext meiner Website. </p>\\n<ul>\\n<li>Erster Listenpunkt</li>\\n<li>Zweiter Listenpunkt</li>\\n<li>Dritter Listenpunkt</li>\\n<li>Vierter Listenpunkt</li>\\n</body>\\n'"
      ]
     },
     "execution_count": 7,
     "metadata": {},
     "output_type": "execute_result"
    }
   ],
   "source": [
    "#Das sieht aber nicht sehr schön aus\n",
    "file = open('02 HTML Code.htm', 'r')\n",
    "text = file.read()\n",
    "text"
   ]
  },
  {
   "cell_type": "markdown",
   "metadata": {},
   "source": [
    "Mit BeautifulSoup kann man HTML-Sites in eine Form bringen, die es uns Menschen wieder einfacher macht, die Inhalte zu lesen. Wir beginnne wir immer, indem wir die Library installieren. Wie mit ```!pip import BS4```falls ihr das nicht schon getan habt. Und dann importieren wir die Library."
   ]
  },
  {
   "cell_type": "code",
   "execution_count": 42,
   "metadata": {},
   "outputs": [],
   "source": [
    "from bs4 import BeautifulSoup"
   ]
  },
  {
   "cell_type": "code",
   "execution_count": 43,
   "metadata": {},
   "outputs": [
    {
     "name": "stdout",
     "output_type": "stream",
     "text": [
      "Requirement already satisfied: lxml in /anaconda3/lib/python3.7/site-packages (4.3.4)\r\n"
     ]
    }
   ],
   "source": [
    "!pip install lxml --user"
   ]
  },
  {
   "cell_type": "code",
   "execution_count": 51,
   "metadata": {},
   "outputs": [],
   "source": [
    "soup = BeautifulSoup(text, 'lxml')"
   ]
  },
  {
   "cell_type": "code",
   "execution_count": 55,
   "metadata": {},
   "outputs": [
    {
     "data": {
      "text/plain": [
       "'Skills '"
      ]
     },
     "execution_count": 55,
     "metadata": {},
     "output_type": "execute_result"
    }
   ],
   "source": [
    "soup.find('h2').text"
   ]
  },
  {
   "cell_type": "code",
   "execution_count": 46,
   "metadata": {},
   "outputs": [
    {
     "data": {
      "text/plain": [
       "[<h2>Skills </h2>,\n",
       " <h2>Erfahrunge</h2>,\n",
       " <h2>Das ist die dritte Überschrift</h2>]"
      ]
     },
     "execution_count": 46,
     "metadata": {},
     "output_type": "execute_result"
    }
   ],
   "source": [
    "soup.find_all('h2')"
   ]
  },
  {
   "cell_type": "code",
   "execution_count": 56,
   "metadata": {},
   "outputs": [],
   "source": [
    "#Bauen wir eine neue Liste\n",
    "new_lst = []\n",
    "for elem in soup.find_all('h2'):\n",
    "    new_lst.append(elem.text)"
   ]
  },
  {
   "cell_type": "code",
   "execution_count": 57,
   "metadata": {},
   "outputs": [
    {
     "data": {
      "text/plain": [
       "['Skills ', 'Erfahrunge', 'Das ist die dritte Überschrift']"
      ]
     },
     "execution_count": 57,
     "metadata": {},
     "output_type": "execute_result"
    }
   ],
   "source": [
    "new_lst"
   ]
  },
  {
   "cell_type": "code",
   "execution_count": 62,
   "metadata": {},
   "outputs": [
    {
     "name": "stdout",
     "output_type": "stream",
     "text": [
      "[{'Überschrift': 'Skills '}, {'Überschrift': 'Erfahrunge'}, {'Überschrift': 'Das ist die dritte Überschrift'}]\n"
     ]
    }
   ],
   "source": [
    "#Bauen wir eine Liste von Dictionaries\n",
    "new_lst = []\n",
    "for elem in soup.find_all('h2'):\n",
    "    mini_dict = {'Überschrift':elem.text}\n",
    "    new_lst.append(mini_dict)\n",
    "print(new_lst)"
   ]
  },
  {
   "cell_type": "code",
   "execution_count": 59,
   "metadata": {},
   "outputs": [],
   "source": [
    "import pandas as pd"
   ]
  },
  {
   "cell_type": "code",
   "execution_count": 60,
   "metadata": {},
   "outputs": [
    {
     "data": {
      "text/html": [
       "<div>\n",
       "<style scoped>\n",
       "    .dataframe tbody tr th:only-of-type {\n",
       "        vertical-align: middle;\n",
       "    }\n",
       "\n",
       "    .dataframe tbody tr th {\n",
       "        vertical-align: top;\n",
       "    }\n",
       "\n",
       "    .dataframe thead th {\n",
       "        text-align: right;\n",
       "    }\n",
       "</style>\n",
       "<table border=\"1\" class=\"dataframe\">\n",
       "  <thead>\n",
       "    <tr style=\"text-align: right;\">\n",
       "      <th></th>\n",
       "      <th>Überschrift</th>\n",
       "    </tr>\n",
       "  </thead>\n",
       "  <tbody>\n",
       "    <tr>\n",
       "      <th>0</th>\n",
       "      <td>Skills</td>\n",
       "    </tr>\n",
       "    <tr>\n",
       "      <th>1</th>\n",
       "      <td>Erfahrunge</td>\n",
       "    </tr>\n",
       "    <tr>\n",
       "      <th>2</th>\n",
       "      <td>Das ist die dritte Überschrift</td>\n",
       "    </tr>\n",
       "  </tbody>\n",
       "</table>\n",
       "</div>"
      ],
      "text/plain": [
       "                      Überschrift\n",
       "0                         Skills \n",
       "1                      Erfahrunge\n",
       "2  Das ist die dritte Überschrift"
      ]
     },
     "execution_count": 60,
     "metadata": {},
     "output_type": "execute_result"
    }
   ],
   "source": [
    "pd.DataFrame(new_lst)"
   ]
  },
  {
   "cell_type": "code",
   "execution_count": 69,
   "metadata": {},
   "outputs": [
    {
     "name": "stdout",
     "output_type": "stream",
     "text": [
      "['Schuhe binden', 'Bier trinken', 'Furzen', 'Lange, sehr lange schlafen', 'Erster Listenpunkt', 'Zweiter Listenpunkt', 'Dritter Listenpunkt', 'Vierter Listenpunkt', 'Erster Listenpunkt', 'Zweiter Listenpunkt', 'Dritter Listenpunkt', 'Vierter Listenpunkt']\n"
     ]
    },
    {
     "data": {
      "text/html": [
       "<div>\n",
       "<style scoped>\n",
       "    .dataframe tbody tr th:only-of-type {\n",
       "        vertical-align: middle;\n",
       "    }\n",
       "\n",
       "    .dataframe tbody tr th {\n",
       "        vertical-align: top;\n",
       "    }\n",
       "\n",
       "    .dataframe thead th {\n",
       "        text-align: right;\n",
       "    }\n",
       "</style>\n",
       "<table border=\"1\" class=\"dataframe\">\n",
       "  <thead>\n",
       "    <tr style=\"text-align: right;\">\n",
       "      <th></th>\n",
       "      <th>0</th>\n",
       "    </tr>\n",
       "  </thead>\n",
       "  <tbody>\n",
       "    <tr>\n",
       "      <th>0</th>\n",
       "      <td>Schuhe binden</td>\n",
       "    </tr>\n",
       "    <tr>\n",
       "      <th>1</th>\n",
       "      <td>Bier trinken</td>\n",
       "    </tr>\n",
       "    <tr>\n",
       "      <th>2</th>\n",
       "      <td>Furzen</td>\n",
       "    </tr>\n",
       "    <tr>\n",
       "      <th>3</th>\n",
       "      <td>Lange, sehr lange schlafen</td>\n",
       "    </tr>\n",
       "    <tr>\n",
       "      <th>4</th>\n",
       "      <td>Erster Listenpunkt</td>\n",
       "    </tr>\n",
       "    <tr>\n",
       "      <th>5</th>\n",
       "      <td>Zweiter Listenpunkt</td>\n",
       "    </tr>\n",
       "    <tr>\n",
       "      <th>6</th>\n",
       "      <td>Dritter Listenpunkt</td>\n",
       "    </tr>\n",
       "    <tr>\n",
       "      <th>7</th>\n",
       "      <td>Vierter Listenpunkt</td>\n",
       "    </tr>\n",
       "    <tr>\n",
       "      <th>8</th>\n",
       "      <td>Erster Listenpunkt</td>\n",
       "    </tr>\n",
       "    <tr>\n",
       "      <th>9</th>\n",
       "      <td>Zweiter Listenpunkt</td>\n",
       "    </tr>\n",
       "    <tr>\n",
       "      <th>10</th>\n",
       "      <td>Dritter Listenpunkt</td>\n",
       "    </tr>\n",
       "    <tr>\n",
       "      <th>11</th>\n",
       "      <td>Vierter Listenpunkt</td>\n",
       "    </tr>\n",
       "  </tbody>\n",
       "</table>\n",
       "</div>"
      ],
      "text/plain": [
       "                             0\n",
       "0                Schuhe binden\n",
       "1                 Bier trinken\n",
       "2                       Furzen\n",
       "3   Lange, sehr lange schlafen\n",
       "4           Erster Listenpunkt\n",
       "5          Zweiter Listenpunkt\n",
       "6          Dritter Listenpunkt\n",
       "7          Vierter Listenpunkt\n",
       "8           Erster Listenpunkt\n",
       "9          Zweiter Listenpunkt\n",
       "10         Dritter Listenpunkt\n",
       "11         Vierter Listenpunkt"
      ]
     },
     "execution_count": 69,
     "metadata": {},
     "output_type": "execute_result"
    }
   ],
   "source": [
    "soup.find_all('li')\n",
    "new_lst = []\n",
    "for elem in soup.find_all('li'):\n",
    "    new_lst.append(elem.text)\n",
    "new_lst\n",
    "print(new_lst)\n",
    "pd.DataFrame(new_lst)"
   ]
  },
  {
   "cell_type": "markdown",
   "metadata": {},
   "source": [
    "## Gehen wir zu etwas komplexerem Inhalt: Ein RSS-Feed\n",
    "Was wir hier haben, ist die aktuelle Ausbuchung der Parkplätze in der Stadt Zürich. Sie werden von der Stadt in einem RSS Feed abgeboten. Schauen wir uns den [Link einmal an](http://www.plszh.ch/plsFeed/rss). Nicht sehr lesbar, aber äusserst strukturiert. Lesen wir die Plätze aus."
   ]
  },
  {
   "cell_type": "code",
   "execution_count": 70,
   "metadata": {},
   "outputs": [],
   "source": [
    "import requests"
   ]
  },
  {
   "cell_type": "code",
   "execution_count": 71,
   "metadata": {},
   "outputs": [],
   "source": [
    "r = requests.get('http://www.plszh.ch/plsFeed/rss') #Besuchen wir die URL"
   ]
  },
  {
   "cell_type": "code",
   "execution_count": 76,
   "metadata": {},
   "outputs": [
    {
     "data": {
      "text/plain": [
       "38"
      ]
     },
     "execution_count": 76,
     "metadata": {},
     "output_type": "execute_result"
    }
   ],
   "source": [
    "contents = r.text #Wandeln wir den Text in ein Format um, mit dem BeautifulSoup umgehen kann.\n",
    "soup = BeautifulSoup(contents,'xml') #Geben wir das an BeautifulSoup weiter\n",
    "titles = soup.find_all('title') #Nun lesen wir Titel aus.\n",
    "len(titles) #Schauen wir, wie lange die Titel sind."
   ]
  },
  {
   "cell_type": "code",
   "execution_count": 77,
   "metadata": {},
   "outputs": [
    {
     "data": {
      "text/plain": [
       "<title>FEED Parkleitsystem Stadt Zürich</title>"
      ]
     },
     "execution_count": 77,
     "metadata": {},
     "output_type": "execute_result"
    }
   ],
   "source": [
    "titles[0] "
   ]
  },
  {
   "cell_type": "code",
   "execution_count": 78,
   "metadata": {},
   "outputs": [
    {
     "data": {
      "text/plain": [
       "<title>Parkgarage am Central / Seilergraben</title>"
      ]
     },
     "execution_count": 78,
     "metadata": {},
     "output_type": "execute_result"
    }
   ],
   "source": [
    "titles[1]"
   ]
  },
  {
   "cell_type": "code",
   "execution_count": 22,
   "metadata": {},
   "outputs": [
    {
     "data": {
      "text/plain": [
       "'Parkgarage am Central / Seilergraben'"
      ]
     },
     "execution_count": 22,
     "metadata": {},
     "output_type": "execute_result"
    }
   ],
   "source": [
    "titles[1].text"
   ]
  },
  {
   "cell_type": "code",
   "execution_count": 83,
   "metadata": {},
   "outputs": [
    {
     "data": {
      "text/plain": [
       "<description>open /    0</description>"
      ]
     },
     "execution_count": 83,
     "metadata": {},
     "output_type": "execute_result"
    }
   ],
   "source": [
    "descr = soup.find_all('description')\n",
    "descr[1]"
   ]
  },
  {
   "cell_type": "code",
   "execution_count": 87,
   "metadata": {},
   "outputs": [
    {
     "data": {
      "text/plain": [
       "[('sven', 2), ('was', 3), ('here', 4)]"
      ]
     },
     "execution_count": 87,
     "metadata": {},
     "output_type": "execute_result"
    }
   ],
   "source": [
    "a = [\"sven\", \"was\", \"here\"] #so zippe wir zwei sachen zusammen.\n",
    "b = [2,3,4]\n",
    "list(zip(a,b))"
   ]
  },
  {
   "cell_type": "code",
   "execution_count": 90,
   "metadata": {},
   "outputs": [
    {
     "data": {
      "text/plain": [
       "(<title>Parkgarage am Central / Seilergraben</title>,\n",
       " <description>open /    0</description>)"
      ]
     },
     "execution_count": 90,
     "metadata": {},
     "output_type": "execute_result"
    }
   ],
   "source": [
    "#Bauen wir die eigene Liste\n",
    "lst = []\n",
    "for garage_name, anzahl_parkplaetze in zip(titles,descr): #garage_name bezieht sich auf titles, anzahl_parkplaetze bezieht sich descr.\n",
    "    \n",
    "    mini_dict = {'Parkgarage':garage.text,\n",
    "                 'Descr':anzahl_parkplaetze.text}\n",
    "    \n",
    "    lst.append(mini_dict)\n",
    "\n",
    "list(zip(titles,descr))[1]"
   ]
  },
  {
   "cell_type": "code",
   "execution_count": 25,
   "metadata": {},
   "outputs": [
    {
     "data": {
      "text/plain": [
       "[{'Parkgarage': 'FEED Parkleitsystem Stadt Zürich',\n",
       "  'Descr': 'http://www.plszh.ch/plsFeed/rss?type=rss_0.92 | rss_0.93 | rss_0.94 | rss_1.0 | rss_2.0 (=default) | atom_0.3 | atom_1.0'},\n",
       " {'Parkgarage': 'Parkgarage am Central / Seilergraben',\n",
       "  'Descr': 'open /    0'},\n",
       " {'Parkgarage': 'Parkhaus Accu / Otto-Schütz-Weg', 'Descr': 'open /  131'},\n",
       " {'Parkgarage': 'Parkhaus Albisriederplatz / Badenerstrasse 380',\n",
       "  'Descr': 'open /   57'},\n",
       " {'Parkgarage': 'Parkhaus Bleicherweg / Beethovenstrasse 35',\n",
       "  'Descr': 'open /    7'},\n",
       " {'Parkgarage': 'Parkhaus Center Eleven / Sophie-Täuber-Strasse 4',\n",
       "  'Descr': 'open /  158'},\n",
       " {'Parkgarage': 'Parkhaus City Parking / Gessnerallee 14',\n",
       "  'Descr': 'open /   93'},\n",
       " {'Parkgarage': 'Parkhaus Cityport / Affolternstrasse 56',\n",
       "  'Descr': 'open /   17'},\n",
       " {'Parkgarage': 'Parkhaus Crowne Plaza / Badenerstrasse 420',\n",
       "  'Descr': 'open /  174'},\n",
       " {'Parkgarage': 'Parkhaus Dorflinde / Schwamendingenstrasse 31',\n",
       "  'Descr': 'open /   26'},\n",
       " {'Parkgarage': 'Parkhaus Feldegg / Riesbachstrasse 7',\n",
       "  'Descr': 'open /   20'},\n",
       " {'Parkgarage': 'Parkhaus Globus / Löwenstrasse 50', 'Descr': 'open /   10'},\n",
       " {'Parkgarage': 'Parkhaus Hardau II / Bullingerstrasse 73',\n",
       "  'Descr': 'open /   98'},\n",
       " {'Parkgarage': 'Parkhaus Hauptbahnhof / Sihlquai 41', 'Descr': 'open /   62'},\n",
       " {'Parkgarage': 'Parkhaus Hohe Promenade / Rämistrasse 22a',\n",
       "  'Descr': 'open /  279'},\n",
       " {'Parkgarage': 'Parkhaus Jelmoli / Steinmühleplatz 1',\n",
       "  'Descr': 'open /    0'},\n",
       " {'Parkgarage': 'Parkhaus Jungholz / Jungholzstrasse 19',\n",
       "  'Descr': 'open /   93'},\n",
       " {'Parkgarage': 'Parkhaus Max-Bill-Platz / Armin-Bollinger-Weg',\n",
       "  'Descr': 'open /   76'},\n",
       " {'Parkgarage': 'Parkhaus Messe Zürich AG / Andreasstrasse 65',\n",
       "  'Descr': 'open /  999'},\n",
       " {'Parkgarage': 'Parkhaus Nordhaus / Siewerdtstrasse 8',\n",
       "  'Descr': 'open /   33'},\n",
       " {'Parkgarage': 'Parkhaus Octavo / Brown-Boveri-Strasse 2',\n",
       "  'Descr': 'open /  110'},\n",
       " {'Parkgarage': 'Parkhaus Opéra / Schillerstrasse 5', 'Descr': 'open /   73'},\n",
       " {'Parkgarage': 'Parkhaus P West / Förrlibuckstrasse 151',\n",
       "  'Descr': 'open /  253'},\n",
       " {'Parkgarage': 'Parkhaus Park Hyatt / Beethovenstrasse 21',\n",
       "  'Descr': 'open /   92'},\n",
       " {'Parkgarage': 'Parkhaus Parkside / Sophie-Täuber-Strasse 10',\n",
       "  'Descr': 'open /    0'},\n",
       " {'Parkgarage': 'Parkhaus Pfingstweid / Pfingstweidstrasse 1',\n",
       "  'Descr': 'open /   58'},\n",
       " {'Parkgarage': 'Parkhaus Stampfenbach / Niklausstrasse 1',\n",
       "  'Descr': 'open /   82'},\n",
       " {'Parkgarage': 'Parkhaus Talgarten / Nüschelerstrasse 31',\n",
       "  'Descr': 'open /    9'},\n",
       " {'Parkgarage': 'Parkhaus USZ Nord / Frauenklinikstrasse',\n",
       "  'Descr': 'open /    0'},\n",
       " {'Parkgarage': 'Parkhaus Uni Irchel / Winterthurerstrasse 181',\n",
       "  'Descr': 'open /  403'},\n",
       " {'Parkgarage': 'Parkhaus Urania / Uraniastrasse 3', 'Descr': 'open /  103'},\n",
       " {'Parkgarage': 'Parkhaus Utoquai / Färberstrasse 6', 'Descr': 'open /   15'},\n",
       " {'Parkgarage': 'Parkhaus Züri 11 Shopping / Nansenstrasse 5/7',\n",
       "  'Descr': 'open /   16'},\n",
       " {'Parkgarage': 'Parkhaus Zürichhorn / Dufourstrasse 142',\n",
       "  'Descr': 'open /   36'},\n",
       " {'Parkgarage': 'Parkplatz Eisfeld / Thurgauerstrasse 54',\n",
       "  'Descr': 'open /   31'},\n",
       " {'Parkgarage': 'Parkplatz Theater 11 / Dörfli-/Thurgauerstrasse',\n",
       "  'Descr': 'open /  123'},\n",
       " {'Parkgarage': 'Parkplatz USZ Süd / Gloriastrasse', 'Descr': 'open /    0'},\n",
       " {'Parkgarage': 'Puls 5 Parkgarage / Giessereistrasse 18',\n",
       "  'Descr': 'open /   12'}]"
      ]
     },
     "execution_count": 25,
     "metadata": {},
     "output_type": "execute_result"
    }
   ],
   "source": [
    "lst"
   ]
  },
  {
   "cell_type": "code",
   "execution_count": 92,
   "metadata": {},
   "outputs": [
    {
     "data": {
      "text/html": [
       "<div>\n",
       "<style scoped>\n",
       "    .dataframe tbody tr th:only-of-type {\n",
       "        vertical-align: middle;\n",
       "    }\n",
       "\n",
       "    .dataframe tbody tr th {\n",
       "        vertical-align: top;\n",
       "    }\n",
       "\n",
       "    .dataframe thead th {\n",
       "        text-align: right;\n",
       "    }\n",
       "</style>\n",
       "<table border=\"1\" class=\"dataframe\">\n",
       "  <thead>\n",
       "    <tr style=\"text-align: right;\">\n",
       "      <th></th>\n",
       "      <th>Descr</th>\n",
       "      <th>Parkgarage</th>\n",
       "    </tr>\n",
       "  </thead>\n",
       "  <tbody>\n",
       "    <tr>\n",
       "      <th>0</th>\n",
       "      <td>http://www.plszh.ch/plsFeed/rss?type=rss_0.92 ...</td>\n",
       "      <td>Puls 5 Parkgarage / Giessereistrasse 18</td>\n",
       "    </tr>\n",
       "    <tr>\n",
       "      <th>1</th>\n",
       "      <td>open /    0</td>\n",
       "      <td>Puls 5 Parkgarage / Giessereistrasse 18</td>\n",
       "    </tr>\n",
       "    <tr>\n",
       "      <th>2</th>\n",
       "      <td>open /  129</td>\n",
       "      <td>Puls 5 Parkgarage / Giessereistrasse 18</td>\n",
       "    </tr>\n",
       "    <tr>\n",
       "      <th>3</th>\n",
       "      <td>open /   56</td>\n",
       "      <td>Puls 5 Parkgarage / Giessereistrasse 18</td>\n",
       "    </tr>\n",
       "    <tr>\n",
       "      <th>4</th>\n",
       "      <td>open /    2</td>\n",
       "      <td>Puls 5 Parkgarage / Giessereistrasse 18</td>\n",
       "    </tr>\n",
       "  </tbody>\n",
       "</table>\n",
       "</div>"
      ],
      "text/plain": [
       "                                               Descr  \\\n",
       "0  http://www.plszh.ch/plsFeed/rss?type=rss_0.92 ...   \n",
       "1                                        open /    0   \n",
       "2                                        open /  129   \n",
       "3                                        open /   56   \n",
       "4                                        open /    2   \n",
       "\n",
       "                                Parkgarage  \n",
       "0  Puls 5 Parkgarage / Giessereistrasse 18  \n",
       "1  Puls 5 Parkgarage / Giessereistrasse 18  \n",
       "2  Puls 5 Parkgarage / Giessereistrasse 18  \n",
       "3  Puls 5 Parkgarage / Giessereistrasse 18  \n",
       "4  Puls 5 Parkgarage / Giessereistrasse 18  "
      ]
     },
     "execution_count": 92,
     "metadata": {},
     "output_type": "execute_result"
    }
   ],
   "source": [
    "pd.DataFrame(lst).head()"
   ]
  },
  {
   "cell_type": "code",
   "execution_count": 27,
   "metadata": {},
   "outputs": [
    {
     "data": {
      "text/html": [
       "<div>\n",
       "<style scoped>\n",
       "    .dataframe tbody tr th:only-of-type {\n",
       "        vertical-align: middle;\n",
       "    }\n",
       "\n",
       "    .dataframe tbody tr th {\n",
       "        vertical-align: top;\n",
       "    }\n",
       "\n",
       "    .dataframe thead th {\n",
       "        text-align: right;\n",
       "    }\n",
       "</style>\n",
       "<table border=\"1\" class=\"dataframe\">\n",
       "  <thead>\n",
       "    <tr style=\"text-align: right;\">\n",
       "      <th></th>\n",
       "      <th>Descr</th>\n",
       "      <th>Parkgarage</th>\n",
       "    </tr>\n",
       "  </thead>\n",
       "  <tbody>\n",
       "    <tr>\n",
       "      <th>1</th>\n",
       "      <td>open /    0</td>\n",
       "      <td>Parkgarage am Central / Seilergraben</td>\n",
       "    </tr>\n",
       "    <tr>\n",
       "      <th>2</th>\n",
       "      <td>open /  131</td>\n",
       "      <td>Parkhaus Accu / Otto-Schütz-Weg</td>\n",
       "    </tr>\n",
       "    <tr>\n",
       "      <th>3</th>\n",
       "      <td>open /   57</td>\n",
       "      <td>Parkhaus Albisriederplatz / Badenerstrasse 380</td>\n",
       "    </tr>\n",
       "    <tr>\n",
       "      <th>4</th>\n",
       "      <td>open /    7</td>\n",
       "      <td>Parkhaus Bleicherweg / Beethovenstrasse 35</td>\n",
       "    </tr>\n",
       "    <tr>\n",
       "      <th>5</th>\n",
       "      <td>open /  158</td>\n",
       "      <td>Parkhaus Center Eleven / Sophie-Täuber-Strasse 4</td>\n",
       "    </tr>\n",
       "    <tr>\n",
       "      <th>6</th>\n",
       "      <td>open /   93</td>\n",
       "      <td>Parkhaus City Parking / Gessnerallee 14</td>\n",
       "    </tr>\n",
       "    <tr>\n",
       "      <th>7</th>\n",
       "      <td>open /   17</td>\n",
       "      <td>Parkhaus Cityport / Affolternstrasse 56</td>\n",
       "    </tr>\n",
       "    <tr>\n",
       "      <th>8</th>\n",
       "      <td>open /  174</td>\n",
       "      <td>Parkhaus Crowne Plaza / Badenerstrasse 420</td>\n",
       "    </tr>\n",
       "    <tr>\n",
       "      <th>9</th>\n",
       "      <td>open /   26</td>\n",
       "      <td>Parkhaus Dorflinde / Schwamendingenstrasse 31</td>\n",
       "    </tr>\n",
       "    <tr>\n",
       "      <th>10</th>\n",
       "      <td>open /   20</td>\n",
       "      <td>Parkhaus Feldegg / Riesbachstrasse 7</td>\n",
       "    </tr>\n",
       "    <tr>\n",
       "      <th>11</th>\n",
       "      <td>open /   10</td>\n",
       "      <td>Parkhaus Globus / Löwenstrasse 50</td>\n",
       "    </tr>\n",
       "    <tr>\n",
       "      <th>12</th>\n",
       "      <td>open /   98</td>\n",
       "      <td>Parkhaus Hardau II / Bullingerstrasse 73</td>\n",
       "    </tr>\n",
       "    <tr>\n",
       "      <th>13</th>\n",
       "      <td>open /   62</td>\n",
       "      <td>Parkhaus Hauptbahnhof / Sihlquai 41</td>\n",
       "    </tr>\n",
       "    <tr>\n",
       "      <th>14</th>\n",
       "      <td>open /  279</td>\n",
       "      <td>Parkhaus Hohe Promenade / Rämistrasse 22a</td>\n",
       "    </tr>\n",
       "    <tr>\n",
       "      <th>15</th>\n",
       "      <td>open /    0</td>\n",
       "      <td>Parkhaus Jelmoli / Steinmühleplatz 1</td>\n",
       "    </tr>\n",
       "    <tr>\n",
       "      <th>16</th>\n",
       "      <td>open /   93</td>\n",
       "      <td>Parkhaus Jungholz / Jungholzstrasse 19</td>\n",
       "    </tr>\n",
       "    <tr>\n",
       "      <th>17</th>\n",
       "      <td>open /   76</td>\n",
       "      <td>Parkhaus Max-Bill-Platz / Armin-Bollinger-Weg</td>\n",
       "    </tr>\n",
       "    <tr>\n",
       "      <th>18</th>\n",
       "      <td>open /  999</td>\n",
       "      <td>Parkhaus Messe Zürich AG / Andreasstrasse 65</td>\n",
       "    </tr>\n",
       "    <tr>\n",
       "      <th>19</th>\n",
       "      <td>open /   33</td>\n",
       "      <td>Parkhaus Nordhaus / Siewerdtstrasse 8</td>\n",
       "    </tr>\n",
       "    <tr>\n",
       "      <th>20</th>\n",
       "      <td>open /  110</td>\n",
       "      <td>Parkhaus Octavo / Brown-Boveri-Strasse 2</td>\n",
       "    </tr>\n",
       "    <tr>\n",
       "      <th>21</th>\n",
       "      <td>open /   73</td>\n",
       "      <td>Parkhaus Opéra / Schillerstrasse 5</td>\n",
       "    </tr>\n",
       "    <tr>\n",
       "      <th>22</th>\n",
       "      <td>open /  253</td>\n",
       "      <td>Parkhaus P West / Förrlibuckstrasse 151</td>\n",
       "    </tr>\n",
       "    <tr>\n",
       "      <th>23</th>\n",
       "      <td>open /   92</td>\n",
       "      <td>Parkhaus Park Hyatt / Beethovenstrasse 21</td>\n",
       "    </tr>\n",
       "    <tr>\n",
       "      <th>24</th>\n",
       "      <td>open /    0</td>\n",
       "      <td>Parkhaus Parkside / Sophie-Täuber-Strasse 10</td>\n",
       "    </tr>\n",
       "    <tr>\n",
       "      <th>25</th>\n",
       "      <td>open /   58</td>\n",
       "      <td>Parkhaus Pfingstweid / Pfingstweidstrasse 1</td>\n",
       "    </tr>\n",
       "    <tr>\n",
       "      <th>26</th>\n",
       "      <td>open /   82</td>\n",
       "      <td>Parkhaus Stampfenbach / Niklausstrasse 1</td>\n",
       "    </tr>\n",
       "    <tr>\n",
       "      <th>27</th>\n",
       "      <td>open /    9</td>\n",
       "      <td>Parkhaus Talgarten / Nüschelerstrasse 31</td>\n",
       "    </tr>\n",
       "    <tr>\n",
       "      <th>28</th>\n",
       "      <td>open /    0</td>\n",
       "      <td>Parkhaus USZ Nord / Frauenklinikstrasse</td>\n",
       "    </tr>\n",
       "    <tr>\n",
       "      <th>29</th>\n",
       "      <td>open /  403</td>\n",
       "      <td>Parkhaus Uni Irchel / Winterthurerstrasse 181</td>\n",
       "    </tr>\n",
       "    <tr>\n",
       "      <th>30</th>\n",
       "      <td>open /  103</td>\n",
       "      <td>Parkhaus Urania / Uraniastrasse 3</td>\n",
       "    </tr>\n",
       "    <tr>\n",
       "      <th>31</th>\n",
       "      <td>open /   15</td>\n",
       "      <td>Parkhaus Utoquai / Färberstrasse 6</td>\n",
       "    </tr>\n",
       "    <tr>\n",
       "      <th>32</th>\n",
       "      <td>open /   16</td>\n",
       "      <td>Parkhaus Züri 11 Shopping / Nansenstrasse 5/7</td>\n",
       "    </tr>\n",
       "    <tr>\n",
       "      <th>33</th>\n",
       "      <td>open /   36</td>\n",
       "      <td>Parkhaus Zürichhorn / Dufourstrasse 142</td>\n",
       "    </tr>\n",
       "    <tr>\n",
       "      <th>34</th>\n",
       "      <td>open /   31</td>\n",
       "      <td>Parkplatz Eisfeld / Thurgauerstrasse 54</td>\n",
       "    </tr>\n",
       "    <tr>\n",
       "      <th>35</th>\n",
       "      <td>open /  123</td>\n",
       "      <td>Parkplatz Theater 11 / Dörfli-/Thurgauerstrasse</td>\n",
       "    </tr>\n",
       "    <tr>\n",
       "      <th>36</th>\n",
       "      <td>open /    0</td>\n",
       "      <td>Parkplatz USZ Süd / Gloriastrasse</td>\n",
       "    </tr>\n",
       "    <tr>\n",
       "      <th>37</th>\n",
       "      <td>open /   12</td>\n",
       "      <td>Puls 5 Parkgarage / Giessereistrasse 18</td>\n",
       "    </tr>\n",
       "  </tbody>\n",
       "</table>\n",
       "</div>"
      ],
      "text/plain": [
       "          Descr                                        Parkgarage\n",
       "1   open /    0              Parkgarage am Central / Seilergraben\n",
       "2   open /  131                   Parkhaus Accu / Otto-Schütz-Weg\n",
       "3   open /   57    Parkhaus Albisriederplatz / Badenerstrasse 380\n",
       "4   open /    7        Parkhaus Bleicherweg / Beethovenstrasse 35\n",
       "5   open /  158  Parkhaus Center Eleven / Sophie-Täuber-Strasse 4\n",
       "6   open /   93           Parkhaus City Parking / Gessnerallee 14\n",
       "7   open /   17           Parkhaus Cityport / Affolternstrasse 56\n",
       "8   open /  174        Parkhaus Crowne Plaza / Badenerstrasse 420\n",
       "9   open /   26     Parkhaus Dorflinde / Schwamendingenstrasse 31\n",
       "10  open /   20              Parkhaus Feldegg / Riesbachstrasse 7\n",
       "11  open /   10                 Parkhaus Globus / Löwenstrasse 50\n",
       "12  open /   98          Parkhaus Hardau II / Bullingerstrasse 73\n",
       "13  open /   62               Parkhaus Hauptbahnhof / Sihlquai 41\n",
       "14  open /  279         Parkhaus Hohe Promenade / Rämistrasse 22a\n",
       "15  open /    0              Parkhaus Jelmoli / Steinmühleplatz 1\n",
       "16  open /   93            Parkhaus Jungholz / Jungholzstrasse 19\n",
       "17  open /   76     Parkhaus Max-Bill-Platz / Armin-Bollinger-Weg\n",
       "18  open /  999      Parkhaus Messe Zürich AG / Andreasstrasse 65\n",
       "19  open /   33             Parkhaus Nordhaus / Siewerdtstrasse 8\n",
       "20  open /  110          Parkhaus Octavo / Brown-Boveri-Strasse 2\n",
       "21  open /   73                Parkhaus Opéra / Schillerstrasse 5\n",
       "22  open /  253           Parkhaus P West / Förrlibuckstrasse 151\n",
       "23  open /   92         Parkhaus Park Hyatt / Beethovenstrasse 21\n",
       "24  open /    0      Parkhaus Parkside / Sophie-Täuber-Strasse 10\n",
       "25  open /   58       Parkhaus Pfingstweid / Pfingstweidstrasse 1\n",
       "26  open /   82          Parkhaus Stampfenbach / Niklausstrasse 1\n",
       "27  open /    9          Parkhaus Talgarten / Nüschelerstrasse 31\n",
       "28  open /    0           Parkhaus USZ Nord / Frauenklinikstrasse\n",
       "29  open /  403     Parkhaus Uni Irchel / Winterthurerstrasse 181\n",
       "30  open /  103                 Parkhaus Urania / Uraniastrasse 3\n",
       "31  open /   15                Parkhaus Utoquai / Färberstrasse 6\n",
       "32  open /   16     Parkhaus Züri 11 Shopping / Nansenstrasse 5/7\n",
       "33  open /   36           Parkhaus Zürichhorn / Dufourstrasse 142\n",
       "34  open /   31           Parkplatz Eisfeld / Thurgauerstrasse 54\n",
       "35  open /  123   Parkplatz Theater 11 / Dörfli-/Thurgauerstrasse\n",
       "36  open /    0                 Parkplatz USZ Süd / Gloriastrasse\n",
       "37  open /   12           Puls 5 Parkgarage / Giessereistrasse 18"
      ]
     },
     "execution_count": 27,
     "metadata": {},
     "output_type": "execute_result"
    }
   ],
   "source": [
    "pd.DataFrame(lst)[1:]"
   ]
  },
  {
   "cell_type": "markdown",
   "metadata": {},
   "source": [
    "# Gehen wir zur [Übung 3](https://github.com/MAZ-CAS-DDJ/kurs_18_19/blob/master/06%20APIs%2C%20Scraping%20I/%C3%9Cbung3.ipynb)"
   ]
  },
  {
   "cell_type": "markdown",
   "metadata": {},
   "source": [
    "# Komplexere Websites"
   ]
  },
  {
   "cell_type": "code",
   "execution_count": 28,
   "metadata": {},
   "outputs": [],
   "source": [
    "#laden wir die Frontpage von Watson\n",
    "r = requests.get('https://www.watson.ch')\n",
    "contents = r.text #Wir lesen den Inhalt aus\n",
    "soup = BeautifulSoup(contents,'xml')"
   ]
  },
  {
   "cell_type": "code",
   "execution_count": 29,
   "metadata": {},
   "outputs": [],
   "source": [
    "#Ziehen wir die Titel raus\n",
    "titelliste = soup.find_all('a')"
   ]
  },
  {
   "cell_type": "code",
   "execution_count": 30,
   "metadata": {},
   "outputs": [
    {
     "data": {
      "text/plain": [
       "249"
      ]
     },
     "execution_count": 30,
     "metadata": {},
     "output_type": "execute_result"
    }
   ],
   "source": [
    "len(titelliste)"
   ]
  },
  {
   "cell_type": "code",
   "execution_count": 31,
   "metadata": {},
   "outputs": [],
   "source": [
    "#Ziehen wir alle Kommentare raus\n",
    "kommentare = soup.find_all('a', {'class':'standard comments'})"
   ]
  },
  {
   "cell_type": "code",
   "execution_count": 32,
   "metadata": {},
   "outputs": [
    {
     "data": {
      "text/plain": [
       "0"
      ]
     },
     "execution_count": 32,
     "metadata": {},
     "output_type": "execute_result"
    }
   ],
   "source": [
    "len(kommentare)"
   ]
  },
  {
   "cell_type": "markdown",
   "metadata": {
    "collapsed": true
   },
   "source": [
    "Hier sehen wir, dass also nicht immer dieselbe Anzahl Kommentare und Artikel herausgelesen werden kann. Nicht jeder Artikel hat einen Kommentar. Wir müssen deshalb unseren Code anpassen."
   ]
  },
  {
   "cell_type": "code",
   "execution_count": 33,
   "metadata": {},
   "outputs": [],
   "source": [
    "storybox = soup.find_all('div', {'class':'text'})"
   ]
  },
  {
   "cell_type": "code",
   "execution_count": 34,
   "metadata": {},
   "outputs": [
    {
     "data": {
      "text/plain": [
       "119"
      ]
     },
     "execution_count": 34,
     "metadata": {},
     "output_type": "execute_result"
    }
   ],
   "source": [
    "len(storybox)"
   ]
  },
  {
   "cell_type": "code",
   "execution_count": 35,
   "metadata": {},
   "outputs": [
    {
     "data": {
      "text/plain": [
       "<div class=\"text\">\n",
       "    Wir verwenden Cookies und Analysetools, um die Nutzerfreundlichkeit der Internetseite zu verbessern und passende Werbung von watson und unseren Werbepartnern anzuzeigen.\n",
       "    Weitere Infos findest Du in unserer <a href=\"/u/agb\">Datenschutzerklärung</a>.\n",
       "    </div>"
      ]
     },
     "execution_count": 35,
     "metadata": {},
     "output_type": "execute_result"
    }
   ],
   "source": [
    "storybox[0]"
   ]
  },
  {
   "cell_type": "code",
   "execution_count": 36,
   "metadata": {},
   "outputs": [
    {
     "data": {
      "text/plain": [
       "<div class=\"text\">\n",
       "<h2><div>Thomas-Cook-Pleite: Briten werden evakuiert, Schweizer müssen selber schauen</div></h2>\n",
       "<p class=\"author\">von Kevin Capellini</p>\n",
       "<!-- iconrow ==> -->\n",
       "<div class=\"iconrow\">\n",
       "<!-- media icons ==> -->\n",
       "<div class=\"media_icons\">\n",
       "<!-- comments ==> -->\n",
       "<div class=\"standard comments\">\n",
       "<span>4</span>\n",
       "</div>\n",
       "<!-- <== comments -->\n",
       "</div>\n",
       "<!-- <== media icons -->\n",
       "</div>\n",
       "<!-- <== iconrow -->\n",
       "</div>"
      ]
     },
     "execution_count": 36,
     "metadata": {},
     "output_type": "execute_result"
    }
   ],
   "source": [
    "storybox[2]"
   ]
  },
  {
   "cell_type": "code",
   "execution_count": 37,
   "metadata": {},
   "outputs": [
    {
     "data": {
      "text/plain": [
       "'Thomas-Cook-Pleite: Briten werden evakuiert, Schweizer müssen selber schauen'"
      ]
     },
     "execution_count": 37,
     "metadata": {},
     "output_type": "execute_result"
    }
   ],
   "source": [
    "storybox[2].find('h2').text  "
   ]
  },
  {
   "cell_type": "code",
   "execution_count": 38,
   "metadata": {},
   "outputs": [
    {
     "ename": "AttributeError",
     "evalue": "'NoneType' object has no attribute 'text'",
     "output_type": "error",
     "traceback": [
      "\u001b[0;31m---------------------------------------------------------------------------\u001b[0m",
      "\u001b[0;31mAttributeError\u001b[0m                            Traceback (most recent call last)",
      "\u001b[0;32m<ipython-input-38-c4f9b92b27af>\u001b[0m in \u001b[0;36m<module>\u001b[0;34m\u001b[0m\n\u001b[0;32m----> 1\u001b[0;31m \u001b[0mstorybox\u001b[0m\u001b[0;34m[\u001b[0m\u001b[0;36m2\u001b[0m\u001b[0;34m]\u001b[0m\u001b[0;34m.\u001b[0m\u001b[0mfind\u001b[0m\u001b[0;34m(\u001b[0m\u001b[0;34m'a'\u001b[0m\u001b[0;34m,\u001b[0m \u001b[0;34m{\u001b[0m\u001b[0;34m'class'\u001b[0m\u001b[0;34m:\u001b[0m\u001b[0;34m'standard comments'\u001b[0m\u001b[0;34m}\u001b[0m\u001b[0;34m)\u001b[0m\u001b[0;34m.\u001b[0m\u001b[0mtext\u001b[0m\u001b[0;34m.\u001b[0m\u001b[0mreplace\u001b[0m\u001b[0;34m(\u001b[0m\u001b[0;34m\"\\n\"\u001b[0m\u001b[0;34m,\u001b[0m \u001b[0;34m\"\"\u001b[0m\u001b[0;34m)\u001b[0m\u001b[0;34m\u001b[0m\u001b[0;34m\u001b[0m\u001b[0m\n\u001b[0m",
      "\u001b[0;31mAttributeError\u001b[0m: 'NoneType' object has no attribute 'text'"
     ]
    }
   ],
   "source": [
    "storybox[2].find('a', {'class':'standard comments'}).text.replace(\"\\n\", \"\")"
   ]
  },
  {
   "cell_type": "code",
   "execution_count": null,
   "metadata": {},
   "outputs": [],
   "source": [
    "lst = []\n",
    "for elem in storybox:\n",
    "    t = elem.find('h2').text\n",
    "    k = elem.find('a', {'class':'standard comments'}).text.replace(\"\\n\", \"\")\n",
    "    \n",
    "    mini_dict = {'Titel': t,\n",
    "                 'Kommentar': k}\n",
    "    \n",
    "    lst.append(mini_dict)"
   ]
  },
  {
   "cell_type": "code",
   "execution_count": null,
   "metadata": {},
   "outputs": [],
   "source": [
    "lst = []\n",
    "for elem in storybox:\n",
    "    \n",
    "    try: #Hier kannn man mit Fehlern umgehen. Man muss allerdings spärlcih damit umgehen. \n",
    "        t = elem.find('h2').text\n",
    "    except:\n",
    "        t = 'Kein Titel'\n",
    "    \n",
    "    try:\n",
    "        k = elem.find('a', {'class':'standard comments'}).text.replace(\"\\n\", \"\")\n",
    "    except:\n",
    "        k = 'Keine Kommentare'\n",
    "    \n",
    "    mini_dict = {'Titel': t,\n",
    "                 'Kommentar': k}\n",
    "    \n",
    "    lst.append(mini_dict)"
   ]
  },
  {
   "cell_type": "code",
   "execution_count": null,
   "metadata": {},
   "outputs": [],
   "source": [
    "pd.DataFrame(lst)"
   ]
  },
  {
   "cell_type": "markdown",
   "metadata": {},
   "source": [
    "# Als Übung: Mit Funktion dasselbe tun.\n",
    "Wenn man sehr ausführlichen Code entwickelt, ist es oft praktisch, mit Funktionen zu arbeiten. Hier ein Beispiel davon, die das aussehen könnte."
   ]
  },
  {
   "cell_type": "code",
   "execution_count": null,
   "metadata": {},
   "outputs": [],
   "source": [
    "def kommentarezählen(url):\n",
    "    \n",
    "    r = requests.get(url)\n",
    "    soup = BeautifulSoup(r.text,'xml')\n",
    "    storybox = soup.find_all('div', {'class':'text'})\n",
    "    \n",
    "    lst = []   \n",
    "    for elem in storybox:\n",
    "        try: #Hier kannn man mit Fehlern umgehen. Man muss allerdings spärlcih damit umgehen. \n",
    "            t = elem.find('h2').text\n",
    "        except:\n",
    "            t = 'Kein Titel'\n",
    "        try:\n",
    "            k = elem.find('a', {'class':'standard comments'}).text.replace(\"\\n\", \"\")\n",
    "        except:\n",
    "            k = 'Keine Kommentare'\n",
    "        mini_dict = {'Titel': t,\n",
    "                 'Kommentar': k}\n",
    "        lst.append(mini_dict)\n",
    "    \n",
    "    return pd.DataFrame(lst)"
   ]
  },
  {
   "cell_type": "code",
   "execution_count": null,
   "metadata": {},
   "outputs": [],
   "source": [
    "kommentarezählen('https://www.watson.ch/')"
   ]
  },
  {
   "cell_type": "markdown",
   "metadata": {},
   "source": [
    "Das können wir natürlich auf der Kommandozeile auslösen. Speichern wir unsere Skript und wandeln wir ihn um. (Wir müssen noch dafür sorgen, dass er mit einem Parameter ausgestattet werden kann. Aber auch das lässt sich einfach googeln)."
   ]
  },
  {
   "cell_type": "markdown",
   "metadata": {},
   "source": [
    "# Nun üben wir das ein wenig"
   ]
  },
  {
   "cell_type": "code",
   "execution_count": null,
   "metadata": {},
   "outputs": [],
   "source": []
  }
 ],
 "metadata": {
  "kernelspec": {
   "display_name": "Python 3",
   "language": "python",
   "name": "python3"
  },
  "language_info": {
   "codemirror_mode": {
    "name": "ipython",
    "version": 3
   },
   "file_extension": ".py",
   "mimetype": "text/x-python",
   "name": "python",
   "nbconvert_exporter": "python",
   "pygments_lexer": "ipython3",
   "version": "3.7.3"
  }
 },
 "nbformat": 4,
 "nbformat_minor": 2
}
