{
 "cells": [
  {
   "cell_type": "markdown",
   "metadata": {},
   "source": [
    "## Agenda"
   ]
  },
  {
   "cell_type": "markdown",
   "metadata": {},
   "source": [
    "- Tokenization\n",
    "- Stemming\n",
    "- Lemmatization\n",
    "    - Pattern\n",
    "    - TextBlob\n",
    "- POS Tagging\n",
    "    - Pattern\n",
    "    - TextBlob\n",
    "- Stop Word removal"
   ]
  },
  {
   "cell_type": "markdown",
   "metadata": {},
   "source": [
    "## Tokenizer\n",
    "- Wie splittet man einfach einen Satz in Wörter auf?\n",
    "- https://www.admin.ch/opc/de/classified-compilation/19995395/index.html#a8"
   ]
  },
  {
   "cell_type": "code",
   "execution_count": 1,
   "metadata": {},
   "outputs": [],
   "source": [
    "import nltk\n",
    "from nltk.tokenize import word_tokenize"
   ]
  },
  {
   "cell_type": "code",
   "execution_count": 2,
   "metadata": {},
   "outputs": [],
   "source": [
    "verfassung = '''\n",
    "Im Namen Gottes des Allmächtigen!\n",
    "\n",
    "Das Schweizervolk und die Kantone,\n",
    "\n",
    "in der Verantwortung gegenüber der Schöpfung,\n",
    "\n",
    "im Bestreben, den Bund zu erneuern, um Freiheit und Demokratie, Unabhängigkeit und Frieden in Solidarität und Offenheit gegenüber der Welt zu stärken,\n",
    "\n",
    "im Willen, in gegenseitiger Rücksichtnahme und Achtung ihre Vielfalt in der Einheit zu leben,\n",
    "\n",
    "im Bewusstsein der gemeinsamen Errungenschaften und der Verantwortung gegenüber den künftigen Generationen,\n",
    "\n",
    "gewiss, dass frei nur ist, wer seine Freiheit gebraucht, und dass die Stärke des Volkes sich misst am Wohl der Schwachen,\n",
    "\n",
    "geben sich folgende Verfassung:\n",
    "'''"
   ]
  },
  {
   "cell_type": "code",
   "execution_count": 3,
   "metadata": {},
   "outputs": [
    {
     "data": {
      "text/plain": [
       "'\\nIm Namen Gottes des Allmächtigen!\\n\\nDas Schweizervolk und die Kantone,\\n\\nin der Verantwortung gegenüber der Schöpfung,\\n\\nim Bestreben, den Bund zu erneuern, um Freiheit und Demokratie, Unabhängigkeit und Frieden in Solidarität und Offenheit gegenüber der Welt zu stärken,\\n\\nim Willen, in gegenseitiger Rücksichtnahme und Achtung ihre Vielfalt in der Einheit zu leben,\\n\\nim Bewusstsein der gemeinsamen Errungenschaften und der Verantwortung gegenüber den künftigen Generationen,\\n\\ngewiss, dass frei nur ist, wer seine Freiheit gebraucht, und dass die Stärke des Volkes sich misst am Wohl der Schwachen,\\n\\ngeben sich folgende Verfassung:\\n'"
      ]
     },
     "execution_count": 3,
     "metadata": {},
     "output_type": "execute_result"
    }
   ],
   "source": [
    "#verfassung = verfassung.decode('utf-8')\n",
    "verfassung"
   ]
  },
  {
   "cell_type": "markdown",
   "metadata": {},
   "source": [
    "### In einzelne Wörter + Zeichen"
   ]
  },
  {
   "cell_type": "code",
   "execution_count": 4,
   "metadata": {},
   "outputs": [
    {
     "data": {
      "text/plain": [
       "['Im',\n",
       " 'Namen',\n",
       " 'Gottes',\n",
       " 'des',\n",
       " 'Allmächtigen',\n",
       " '!',\n",
       " 'Das',\n",
       " 'Schweizervolk',\n",
       " 'und',\n",
       " 'die']"
      ]
     },
     "execution_count": 4,
     "metadata": {},
     "output_type": "execute_result"
    }
   ],
   "source": [
    "words = nltk.word_tokenize(verfassung)\n",
    "words[0:10]"
   ]
  },
  {
   "cell_type": "markdown",
   "metadata": {},
   "source": [
    "### In Wörter"
   ]
  },
  {
   "cell_type": "code",
   "execution_count": 5,
   "metadata": {},
   "outputs": [
    {
     "data": {
      "text/plain": [
       "True"
      ]
     },
     "execution_count": 5,
     "metadata": {},
     "output_type": "execute_result"
    }
   ],
   "source": [
    "'sven'.isalpha() #handelt es sich um einen alphanummerischen charakter == true"
   ]
  },
  {
   "cell_type": "code",
   "execution_count": 6,
   "metadata": {},
   "outputs": [
    {
     "data": {
      "text/plain": [
       "FreqDist({'der': 2, 'mann': 2, 'ging': 2, 'zum': 2, 'bäcker': 2})"
      ]
     },
     "execution_count": 6,
     "metadata": {},
     "output_type": "execute_result"
    }
   ],
   "source": [
    "from nltk import *\n",
    "sample ='der Mann ging zum Bäcker. der Bäcker ging zum Mann'\n",
    "words = nltk.word_tokenize(sample)\n",
    "words = [word.lower()for word in words if word.isalpha()]\n",
    "FreqDist(words)"
   ]
  },
  {
   "cell_type": "code",
   "execution_count": 7,
   "metadata": {},
   "outputs": [
    {
     "data": {
      "text/plain": [
       "['im',\n",
       " 'namen',\n",
       " 'gottes',\n",
       " 'des',\n",
       " 'allmächtigen',\n",
       " 'das',\n",
       " 'schweizervolk',\n",
       " 'und',\n",
       " 'die',\n",
       " 'kantone',\n",
       " 'in',\n",
       " 'der',\n",
       " 'verantwortung',\n",
       " 'gegenüber',\n",
       " 'der',\n",
       " 'schöpfung',\n",
       " 'im',\n",
       " 'bestreben',\n",
       " 'den',\n",
       " 'bund']"
      ]
     },
     "execution_count": 7,
     "metadata": {},
     "output_type": "execute_result"
    }
   ],
   "source": [
    "from nltk.tokenize import word_tokenize\n",
    "words = word_tokenize(verfassung)\n",
    "words=[word.lower() for word in words if word.isalpha()]\n",
    "words[0:20]"
   ]
  },
  {
   "cell_type": "code",
   "execution_count": 8,
   "metadata": {},
   "outputs": [
    {
     "data": {
      "text/plain": [
       "True"
      ]
     },
     "execution_count": 8,
     "metadata": {},
     "output_type": "execute_result"
    }
   ],
   "source": [
    "\"Sven\".endswith(\"en\")"
   ]
  },
  {
   "cell_type": "markdown",
   "metadata": {},
   "source": [
    "### Hier noch ein paar praktische Python funktionen wie isalpha\n",
    "\n",
    "|  s.startswith(t) | test if s starts with t |\n",
    "|  ------ | ------ |\n",
    "|  s.endswith(t) | test if s ends with t |\n",
    "|  t in s | test if t is a substring of s |\n",
    "|  s.islower() | test if s contains cased characters and all are lowercase |\n",
    "|  s.isupper() | test if s contains cased characters and all are uppercase |\n",
    "|  s.isalpha() | test if s is non-empty and all characters in s are alphabetic |\n",
    "|  s.isalnum() | test if s is non-empty and all characters in s are alphanumeric |\n",
    "|  s.isdigit() | test if s is non-empty and all characters in s are digits |\n",
    "|  s.istitle() | test if s contains cased characters and is titlecased (i.e. all words in s have initial capitals) |"
   ]
  },
  {
   "cell_type": "markdown",
   "metadata": {},
   "source": [
    "### In Sätze"
   ]
  },
  {
   "cell_type": "code",
   "execution_count": 9,
   "metadata": {
    "scrolled": true
   },
   "outputs": [
    {
     "data": {
      "text/plain": [
       "['\\nIm Namen Gottes des Allmächtigen!',\n",
       " 'Das Schweizervolk und die Kantone,\\n\\nin der Verantwortung gegenüber der Schöpfung,\\n\\nim Bestreben, den Bund zu erneuern, um Freiheit und Demokratie, Unabhängigkeit und Frieden in Solidarität und Offenheit gegenüber der Welt zu stärken,\\n\\nim Willen, in gegenseitiger Rücksichtnahme und Achtung ihre Vielfalt in der Einheit zu leben,\\n\\nim Bewusstsein der gemeinsamen Errungenschaften und der Verantwortung gegenüber den künftigen Generationen,\\n\\ngewiss, dass frei nur ist, wer seine Freiheit gebraucht, und dass die Stärke des Volkes sich misst am Wohl der Schwachen,\\n\\ngeben sich folgende Verfassung:']"
      ]
     },
     "execution_count": 9,
     "metadata": {},
     "output_type": "execute_result"
    }
   ],
   "source": [
    "from nltk.tokenize import sent_tokenize\n",
    "sentences = sent_tokenize(verfassung)\n",
    "sentences"
   ]
  },
  {
   "cell_type": "markdown",
   "metadata": {},
   "source": [
    "## Stemming\n",
    "- d.h. das überführen von Wörtern in den gleichen Stamm. \n",
    "- Übliche Probleme die Sprache so mit sich bringt:\n",
    "    - Deklination: gehe, gehst, gehen, geht, ... es handelt sich um das gleiche Wort. \n",
    "    - Plural, Groß/Kleinschreibung: katze, katzen, Katze ... es handelt sich auch um das gleiche Wort. \n",
    "    - ..."
   ]
  },
  {
   "cell_type": "code",
   "execution_count": 10,
   "metadata": {},
   "outputs": [],
   "source": [
    "porter = nltk.PorterStemmer()\n",
    "lancaster = nltk.LancasterStemmer()"
   ]
  },
  {
   "cell_type": "markdown",
   "metadata": {},
   "source": [
    "### Porter stemmer\n",
    "- geht ganz ok für Englisch\n",
    "- https://de.wikipedia.org/wiki/Porter-Stemmer-Algorithmus"
   ]
  },
  {
   "cell_type": "code",
   "execution_count": 11,
   "metadata": {},
   "outputs": [
    {
     "data": {
      "text/plain": [
       "['Universal',\n",
       " 'Declaration',\n",
       " 'of',\n",
       " 'Human',\n",
       " 'Rights',\n",
       " 'Preamble',\n",
       " 'Whereas',\n",
       " 'recognition',\n",
       " 'of',\n",
       " 'the',\n",
       " 'inherent',\n",
       " 'dignity',\n",
       " 'and',\n",
       " 'of',\n",
       " 'the',\n",
       " 'equal',\n",
       " 'and',\n",
       " 'inalienable',\n",
       " 'rights',\n",
       " 'of']"
      ]
     },
     "execution_count": 11,
     "metadata": {},
     "output_type": "execute_result"
    }
   ],
   "source": [
    "from nltk.corpus import udhr\n",
    "engl_words = udhr.words(\"English-Latin1\")\n",
    "engl_words[0:20]"
   ]
  },
  {
   "cell_type": "code",
   "execution_count": 12,
   "metadata": {},
   "outputs": [
    {
     "data": {
      "text/plain": [
       "['univers',\n",
       " 'declar',\n",
       " 'of',\n",
       " 'human',\n",
       " 'right',\n",
       " 'preambl',\n",
       " 'wherea',\n",
       " 'recognit',\n",
       " 'of',\n",
       " 'the',\n",
       " 'inher',\n",
       " 'digniti',\n",
       " 'and',\n",
       " 'of',\n",
       " 'the',\n",
       " 'equal',\n",
       " 'and',\n",
       " 'inalien',\n",
       " 'right',\n",
       " 'of']"
      ]
     },
     "execution_count": 12,
     "metadata": {},
     "output_type": "execute_result"
    }
   ],
   "source": [
    "[porter.stem(w) for w in engl_words][0:20]"
   ]
  },
  {
   "cell_type": "markdown",
   "metadata": {},
   "source": [
    "### Lancaster Stemmer\n",
    "- kommt zu leicht anderen \"stämmen\"\n",
    "- funktioniert nicht so gut für deutsch"
   ]
  },
  {
   "cell_type": "code",
   "execution_count": 13,
   "metadata": {},
   "outputs": [
    {
     "data": {
      "text/plain": [
       "['univers',\n",
       " 'decl',\n",
       " 'of',\n",
       " 'hum',\n",
       " 'right',\n",
       " 'preambl',\n",
       " 'wherea',\n",
       " 'recognit',\n",
       " 'of',\n",
       " 'the',\n",
       " 'inh',\n",
       " 'dign',\n",
       " 'and',\n",
       " 'of',\n",
       " 'the',\n",
       " 'eq',\n",
       " 'and',\n",
       " 'ina',\n",
       " 'right',\n",
       " 'of']"
      ]
     },
     "execution_count": 13,
     "metadata": {},
     "output_type": "execute_result"
    }
   ],
   "source": [
    "[lancaster.stem(w) for w in engl_words][0:20]"
   ]
  },
  {
   "cell_type": "markdown",
   "metadata": {},
   "source": [
    "### Snowball stemmer\n",
    "- Geht gut für deusch\n",
    "- http://snowball.tartarus.org/algorithms/german/stemmer.html"
   ]
  },
  {
   "cell_type": "code",
   "execution_count": 14,
   "metadata": {},
   "outputs": [],
   "source": [
    "snowball = nltk.stem.snowball.GermanStemmer()"
   ]
  },
  {
   "cell_type": "code",
   "execution_count": 15,
   "metadata": {},
   "outputs": [
    {
     "data": {
      "text/plain": [
       "['im',\n",
       " 'nam',\n",
       " 'gott',\n",
       " 'des',\n",
       " 'allmacht',\n",
       " 'das',\n",
       " 'schweizervolk',\n",
       " 'und',\n",
       " 'die',\n",
       " 'kanton',\n",
       " 'in',\n",
       " 'der',\n",
       " 'verantwort',\n",
       " 'gegenub',\n",
       " 'der',\n",
       " 'schopfung',\n",
       " 'im',\n",
       " 'bestreb',\n",
       " 'den',\n",
       " 'bund']"
      ]
     },
     "execution_count": 15,
     "metadata": {},
     "output_type": "execute_result"
    }
   ],
   "source": [
    "[snowball.stem(w) for w in words][0:20]"
   ]
  },
  {
   "cell_type": "markdown",
   "metadata": {},
   "source": [
    "## Lemmatizer\n",
    "- Zurückführen des Textes zu \"Wörterbuchdefinitionen\""
   ]
  },
  {
   "cell_type": "code",
   "execution_count": 16,
   "metadata": {},
   "outputs": [],
   "source": [
    "text = \"Women in technologies areas are amazing at coding. Especially one woman is great, her name is Ursula Burns.\"\n",
    "words = word_tokenize(text)\n",
    "words_engl =[word.lower() for word in words if word.isalpha()]"
   ]
  },
  {
   "cell_type": "code",
   "execution_count": 17,
   "metadata": {},
   "outputs": [
    {
     "name": "stderr",
     "output_type": "stream",
     "text": [
      "[nltk_data] Downloading package wordnet to\n",
      "[nltk_data]     /Users/TamaraMBP/nltk_data...\n",
      "[nltk_data]   Package wordnet is already up-to-date!\n"
     ]
    },
    {
     "data": {
      "text/plain": [
       "['woman',\n",
       " 'in',\n",
       " 'technology',\n",
       " 'area',\n",
       " 'are',\n",
       " 'amazing',\n",
       " 'at',\n",
       " 'coding',\n",
       " 'especially',\n",
       " 'one',\n",
       " 'woman',\n",
       " 'is',\n",
       " 'great',\n",
       " 'her',\n",
       " 'name',\n",
       " 'is',\n",
       " 'ursula',\n",
       " 'burn']"
      ]
     },
     "execution_count": 17,
     "metadata": {},
     "output_type": "execute_result"
    }
   ],
   "source": [
    "nltk.download('wordnet')\n",
    "from nltk import WordNetLemmatizer\n",
    "\n",
    "lemma = nltk.WordNetLemmatizer() \n",
    "lemmas = [lemma.lemmatize(i) for i in words_engl]\n",
    "lemmas[0:20]"
   ]
  },
  {
   "cell_type": "markdown",
   "metadata": {},
   "source": [
    "### Lematizer Deutsch NLTK\n",
    "- Geht leider nicht für deusch :( in nltk"
   ]
  },
  {
   "cell_type": "code",
   "execution_count": 18,
   "metadata": {},
   "outputs": [
    {
     "ename": "AttributeError",
     "evalue": "'str' object has no attribute 'decode'",
     "output_type": "error",
     "traceback": [
      "\u001b[0;31m---------------------------------------------------------------------------\u001b[0m",
      "\u001b[0;31mAttributeError\u001b[0m                            Traceback (most recent call last)",
      "\u001b[0;32m<ipython-input-18-90e186618da8>\u001b[0m in \u001b[0;36m<module>\u001b[0;34m\u001b[0m\n\u001b[1;32m      2\u001b[0m \u001b[0mKurz\u001b[0m \u001b[0mvor\u001b[0m \u001b[0;36m22.00\u001b[0m \u001b[0mUhr\u001b[0m \u001b[0msind\u001b[0m \u001b[0mPolizisten\u001b[0m \u001b[0mder\u001b[0m \u001b[0mStadtpolizei\u001b[0m \u001b[0;32min\u001b[0m \u001b[0malle\u001b[0m \u001b[0mRichtungen\u001b[0m \u001b[0maber\u001b[0m \u001b[0mvor\u001b[0m \u001b[0mallem\u001b[0m \u001b[0;32min\u001b[0m \u001b[0mRichtung\u001b[0m \u001b[0mKreis\u001b[0m \u001b[0;36m9\u001b[0m \u001b[0mausgerückt\u001b[0m\u001b[0;34m.\u001b[0m \u001b[0mGrund\u001b[0m \u001b[0mwar\u001b[0m \u001b[0meine\u001b[0m \u001b[0mMeldung\u001b[0m \u001b[0mzu\u001b[0m \u001b[0meiner\u001b[0m \u001b[0mprivaten\u001b[0m \u001b[0mParty\u001b[0m \u001b[0man\u001b[0m \u001b[0mder\u001b[0m \u001b[0mAargauerstrasse\u001b[0m\u001b[0;34m,\u001b[0m \u001b[0mdie\u001b[0m \u001b[0mangeblich\u001b[0m \u001b[0mausser\u001b[0m \u001b[0mKontrolle\u001b[0m \u001b[0mgeraten\u001b[0m \u001b[0msei\u001b[0m\u001b[0;34m.\u001b[0m\u001b[0;34m\u001b[0m\u001b[0;34m\u001b[0m\u001b[0m\n\u001b[1;32m      3\u001b[0m '''\n\u001b[0;32m----> 4\u001b[0;31m \u001b[0mparty_text\u001b[0m \u001b[0;34m=\u001b[0m \u001b[0mparty_text\u001b[0m\u001b[0;34m.\u001b[0m\u001b[0mdecode\u001b[0m\u001b[0;34m(\u001b[0m\u001b[0;34m\"UTF-8\"\u001b[0m\u001b[0;34m)\u001b[0m\u001b[0;34m\u001b[0m\u001b[0;34m\u001b[0m\u001b[0m\n\u001b[0m\u001b[1;32m      5\u001b[0m \u001b[0mwords\u001b[0m \u001b[0;34m=\u001b[0m \u001b[0mword_tokenize\u001b[0m\u001b[0;34m(\u001b[0m\u001b[0mparty_text\u001b[0m\u001b[0;34m)\u001b[0m\u001b[0;34m\u001b[0m\u001b[0;34m\u001b[0m\u001b[0m\n\u001b[1;32m      6\u001b[0m \u001b[0mwords_german\u001b[0m \u001b[0;34m=\u001b[0m\u001b[0;34m[\u001b[0m\u001b[0mword\u001b[0m\u001b[0;34m.\u001b[0m\u001b[0mlower\u001b[0m\u001b[0;34m(\u001b[0m\u001b[0;34m)\u001b[0m \u001b[0;32mfor\u001b[0m \u001b[0mword\u001b[0m \u001b[0;32min\u001b[0m \u001b[0mwords\u001b[0m \u001b[0;32mif\u001b[0m \u001b[0mword\u001b[0m\u001b[0;34m.\u001b[0m\u001b[0misalpha\u001b[0m\u001b[0;34m(\u001b[0m\u001b[0;34m)\u001b[0m\u001b[0;34m]\u001b[0m\u001b[0;34m\u001b[0m\u001b[0;34m\u001b[0m\u001b[0m\n",
      "\u001b[0;31mAttributeError\u001b[0m: 'str' object has no attribute 'decode'"
     ]
    }
   ],
   "source": [
    "party_text = '''\n",
    "Kurz vor 22.00 Uhr sind Polizisten der Stadtpolizei in alle Richtungen aber vor allem in Richtung Kreis 9 ausgerückt. Grund war eine Meldung zu einer privaten Party an der Aargauerstrasse, die angeblich ausser Kontrolle geraten sei. \n",
    "'''\n",
    "party_text = party_text.decode(\"UTF-8\")\n",
    "words = word_tokenize(party_text)\n",
    "words_german =[word.lower() for word in words if word.isalpha()]"
   ]
  },
  {
   "cell_type": "code",
   "execution_count": 19,
   "metadata": {},
   "outputs": [
    {
     "ename": "NameError",
     "evalue": "name 'words_german' is not defined",
     "output_type": "error",
     "traceback": [
      "\u001b[0;31m---------------------------------------------------------------------------\u001b[0m",
      "\u001b[0;31mNameError\u001b[0m                                 Traceback (most recent call last)",
      "\u001b[0;32m<ipython-input-19-167f8c3c2d88>\u001b[0m in \u001b[0;36m<module>\u001b[0;34m\u001b[0m\n\u001b[1;32m      1\u001b[0m \u001b[0mlemma\u001b[0m \u001b[0;34m=\u001b[0m \u001b[0mnltk\u001b[0m\u001b[0;34m.\u001b[0m\u001b[0mWordNetLemmatizer\u001b[0m\u001b[0;34m(\u001b[0m\u001b[0;34m)\u001b[0m\u001b[0;34m\u001b[0m\u001b[0;34m\u001b[0m\u001b[0m\n\u001b[0;32m----> 2\u001b[0;31m \u001b[0mlemmas\u001b[0m \u001b[0;34m=\u001b[0m \u001b[0;34m[\u001b[0m\u001b[0mlemma\u001b[0m\u001b[0;34m.\u001b[0m\u001b[0mlemmatize\u001b[0m\u001b[0;34m(\u001b[0m\u001b[0mi\u001b[0m\u001b[0;34m)\u001b[0m \u001b[0;32mfor\u001b[0m \u001b[0mi\u001b[0m \u001b[0;32min\u001b[0m \u001b[0mwords_german\u001b[0m\u001b[0;34m]\u001b[0m\u001b[0;34m\u001b[0m\u001b[0;34m\u001b[0m\u001b[0m\n\u001b[0m\u001b[1;32m      3\u001b[0m \u001b[0mlemmas\u001b[0m\u001b[0;34m[\u001b[0m\u001b[0;36m0\u001b[0m\u001b[0;34m:\u001b[0m\u001b[0;36m20\u001b[0m\u001b[0;34m]\u001b[0m\u001b[0;34m\u001b[0m\u001b[0;34m\u001b[0m\u001b[0m\n",
      "\u001b[0;31mNameError\u001b[0m: name 'words_german' is not defined"
     ]
    }
   ],
   "source": [
    "lemma = nltk.WordNetLemmatizer() \n",
    "lemmas = [lemma.lemmatize(i) for i in words_german]\n",
    "lemmas[0:20]"
   ]
  },
  {
   "cell_type": "code",
   "execution_count": 20,
   "metadata": {},
   "outputs": [
    {
     "name": "stdout",
     "output_type": "stream",
     "text": [
      "Requirement already up-to-date: textblob in /anaconda3/lib/python3.7/site-packages (0.15.3)\n",
      "Requirement already satisfied, skipping upgrade: nltk>=3.1 in /Users/TamaraMBP/.local/lib/python3.7/site-packages (from textblob) (3.4.5)\n",
      "Requirement already satisfied, skipping upgrade: six in /anaconda3/lib/python3.7/site-packages (from nltk>=3.1->textblob) (1.12.0)\n",
      "Requirement already up-to-date: textblob-de in /anaconda3/lib/python3.7/site-packages (0.4.3)\n",
      "Requirement already satisfied, skipping upgrade: textblob>=0.9.0 in /anaconda3/lib/python3.7/site-packages (from textblob-de) (0.15.3)\n",
      "Requirement already satisfied, skipping upgrade: nltk>=3.1 in /Users/TamaraMBP/.local/lib/python3.7/site-packages (from textblob>=0.9.0->textblob-de) (3.4.5)\n",
      "Requirement already satisfied, skipping upgrade: six in /anaconda3/lib/python3.7/site-packages (from nltk>=3.1->textblob>=0.9.0->textblob-de) (1.12.0)\n"
     ]
    }
   ],
   "source": [
    "!pip install -U textblob\n",
    "!pip install -U textblob-de"
   ]
  },
  {
   "cell_type": "markdown",
   "metadata": {},
   "source": [
    "## Lemmatizer in Pattern\n",
    "- Ähnlich wie NLTK funktioniert aber auch für deutsch\n",
    "- https://www.clips.uantwerpen.be/pattern\n",
    "- ```pip install pattern```\n",
    "- Deutsche modelle kommen übrigens von der Uni Zürich https://www.zora.uzh.ch/id/eprint/28579/"
   ]
  },
  {
   "cell_type": "code",
   "execution_count": 21,
   "metadata": {},
   "outputs": [
    {
     "name": "stdout",
     "output_type": "stream",
     "text": [
      "Collecting pattern\n",
      "  Using cached https://files.pythonhosted.org/packages/1e/07/b0e61b6c818ed4b6145fe01d1c341223aa6cfbc3928538ad1f2b890924a3/Pattern-3.6.0.tar.gz\n",
      "Requirement already satisfied: future in /anaconda3/lib/python3.7/site-packages (from pattern) (0.17.1)\n",
      "Collecting backports.csv (from pattern)\n",
      "  Using cached https://files.pythonhosted.org/packages/8e/26/a6bd68f13e0f38fbb643d6e497fc3462be83a0b6c4d43425c78bb51a7291/backports.csv-1.0.7-py2.py3-none-any.whl\n",
      "Collecting mysqlclient (from pattern)\n",
      "  Using cached https://files.pythonhosted.org/packages/f8/9b/5db9a03e2088a87c26e3e4d4c7f7e8f4c2dbae610f9521cdfac15755a795/mysqlclient-1.4.5.tar.gz\n",
      "\u001b[31m    ERROR: Complete output from command python setup.py egg_info:\u001b[0m\n",
      "\u001b[31m    ERROR: /bin/sh: mysql_config: command not found\n",
      "    /bin/sh: mariadb_config: command not found\n",
      "    /bin/sh: mysql_config: command not found\n",
      "    Traceback (most recent call last):\n",
      "      File \"<string>\", line 1, in <module>\n",
      "      File \"/private/var/folders/dp/jktv40p11xbg4r3fp1hqpzfw0000gn/T/pip-install-abu5ad41/mysqlclient/setup.py\", line 16, in <module>\n",
      "        metadata, options = get_config()\n",
      "      File \"/private/var/folders/dp/jktv40p11xbg4r3fp1hqpzfw0000gn/T/pip-install-abu5ad41/mysqlclient/setup_posix.py\", line 61, in get_config\n",
      "        libs = mysql_config(\"libs\")\n",
      "      File \"/private/var/folders/dp/jktv40p11xbg4r3fp1hqpzfw0000gn/T/pip-install-abu5ad41/mysqlclient/setup_posix.py\", line 29, in mysql_config\n",
      "        raise EnvironmentError(\"%s not found\" % (_mysql_config_path,))\n",
      "    OSError: mysql_config not found\n",
      "    ----------------------------------------\u001b[0m\n",
      "\u001b[31mERROR: Command \"python setup.py egg_info\" failed with error code 1 in /private/var/folders/dp/jktv40p11xbg4r3fp1hqpzfw0000gn/T/pip-install-abu5ad41/mysqlclient/\u001b[0m\n"
     ]
    }
   ],
   "source": [
    "!pip install pattern"
   ]
  },
  {
   "cell_type": "code",
   "execution_count": 22,
   "metadata": {
    "scrolled": true
   },
   "outputs": [
    {
     "ename": "ModuleNotFoundError",
     "evalue": "No module named 'pattern'",
     "output_type": "error",
     "traceback": [
      "\u001b[0;31m---------------------------------------------------------------------------\u001b[0m",
      "\u001b[0;31mModuleNotFoundError\u001b[0m                       Traceback (most recent call last)",
      "\u001b[0;32m<ipython-input-22-9a15f838248a>\u001b[0m in \u001b[0;36m<module>\u001b[0;34m\u001b[0m\n\u001b[0;32m----> 1\u001b[0;31m \u001b[0;32mfrom\u001b[0m \u001b[0mpattern\u001b[0m\u001b[0;34m.\u001b[0m\u001b[0mde\u001b[0m \u001b[0;32mimport\u001b[0m \u001b[0mparse\u001b[0m\u001b[0;34m\u001b[0m\u001b[0;34m\u001b[0m\u001b[0m\n\u001b[0m",
      "\u001b[0;31mModuleNotFoundError\u001b[0m: No module named 'pattern'"
     ]
    }
   ],
   "source": [
    "from pattern.de import parse"
   ]
  },
  {
   "cell_type": "code",
   "execution_count": 23,
   "metadata": {},
   "outputs": [
    {
     "ename": "TypeError",
     "evalue": "'module' object is not callable",
     "output_type": "error",
     "traceback": [
      "\u001b[0;31m---------------------------------------------------------------------------\u001b[0m",
      "\u001b[0;31mTypeError\u001b[0m                                 Traceback (most recent call last)",
      "\u001b[0;32m<ipython-input-23-09a2be76bac3>\u001b[0m in \u001b[0;36m<module>\u001b[0;34m\u001b[0m\n\u001b[1;32m      1\u001b[0m \u001b[0mtext\u001b[0m \u001b[0;34m=\u001b[0m \u001b[0;34m\"Richtungen Richtung.\"\u001b[0m\u001b[0;34m\u001b[0m\u001b[0;34m\u001b[0m\u001b[0m\n\u001b[0;32m----> 2\u001b[0;31m \u001b[0ms\u001b[0m \u001b[0;34m=\u001b[0m \u001b[0mparse\u001b[0m\u001b[0;34m(\u001b[0m\u001b[0mtext\u001b[0m\u001b[0;34m,\u001b[0m \u001b[0mrelations\u001b[0m\u001b[0;34m=\u001b[0m\u001b[0;32mTrue\u001b[0m\u001b[0;34m,\u001b[0m \u001b[0mlemmata\u001b[0m\u001b[0;34m=\u001b[0m\u001b[0;32mTrue\u001b[0m\u001b[0;34m)\u001b[0m\u001b[0;34m\u001b[0m\u001b[0;34m\u001b[0m\u001b[0m\n\u001b[0m\u001b[1;32m      3\u001b[0m \u001b[0ms\u001b[0m\u001b[0;34m\u001b[0m\u001b[0;34m\u001b[0m\u001b[0m\n",
      "\u001b[0;31mTypeError\u001b[0m: 'module' object is not callable"
     ]
    }
   ],
   "source": [
    "text = \"Richtungen Richtung.\"\n",
    "s = parse(text, relations=True, lemmata=True)\n",
    "s"
   ]
  },
  {
   "cell_type": "code",
   "execution_count": 24,
   "metadata": {},
   "outputs": [
    {
     "ename": "ModuleNotFoundError",
     "evalue": "No module named 'pattern'",
     "output_type": "error",
     "traceback": [
      "\u001b[0;31m---------------------------------------------------------------------------\u001b[0m",
      "\u001b[0;31mModuleNotFoundError\u001b[0m                       Traceback (most recent call last)",
      "\u001b[0;32m<ipython-input-24-2d805d6468ff>\u001b[0m in \u001b[0;36m<module>\u001b[0;34m\u001b[0m\n\u001b[1;32m      1\u001b[0m \u001b[0mlemmata\u001b[0m \u001b[0;34m=\u001b[0m \u001b[0;34m[\u001b[0m\u001b[0;34m]\u001b[0m\u001b[0;34m\u001b[0m\u001b[0;34m\u001b[0m\u001b[0m\n\u001b[0;32m----> 2\u001b[0;31m \u001b[0;32mfrom\u001b[0m \u001b[0mpattern\u001b[0m\u001b[0;34m.\u001b[0m\u001b[0mde\u001b[0m \u001b[0;32mimport\u001b[0m \u001b[0mparsetree\u001b[0m\u001b[0;34m\u001b[0m\u001b[0;34m\u001b[0m\u001b[0m\n\u001b[0m\u001b[1;32m      3\u001b[0m \u001b[0ms\u001b[0m \u001b[0;34m=\u001b[0m \u001b[0mparsetree\u001b[0m\u001b[0;34m(\u001b[0m\u001b[0mparty_text\u001b[0m\u001b[0;34m,\u001b[0m\u001b[0mrelations\u001b[0m\u001b[0;34m=\u001b[0m\u001b[0;32mTrue\u001b[0m\u001b[0;34m,\u001b[0m \u001b[0mlemmata\u001b[0m\u001b[0;34m=\u001b[0m\u001b[0;32mTrue\u001b[0m\u001b[0;34m)\u001b[0m\u001b[0;34m\u001b[0m\u001b[0;34m\u001b[0m\u001b[0m\n\u001b[1;32m      4\u001b[0m \u001b[0;32mfor\u001b[0m \u001b[0msentence\u001b[0m \u001b[0;32min\u001b[0m \u001b[0ms\u001b[0m\u001b[0;34m:\u001b[0m\u001b[0;34m\u001b[0m\u001b[0;34m\u001b[0m\u001b[0m\n\u001b[1;32m      5\u001b[0m     \u001b[0;32mfor\u001b[0m \u001b[0mchunk\u001b[0m \u001b[0;32min\u001b[0m \u001b[0msentence\u001b[0m\u001b[0;34m.\u001b[0m\u001b[0mchunks\u001b[0m\u001b[0;34m:\u001b[0m\u001b[0;34m\u001b[0m\u001b[0;34m\u001b[0m\u001b[0m\n",
      "\u001b[0;31mModuleNotFoundError\u001b[0m: No module named 'pattern'"
     ]
    }
   ],
   "source": [
    "lemmata = []\n",
    "from pattern.de import parsetree\n",
    "s = parsetree(party_text,relations=True, lemmata=True) \n",
    "for sentence in s: \n",
    "    for chunk in sentence.chunks:\n",
    "        for word in chunk.words:\n",
    "            #print(\"%s (%s)\" %(word,word.lemma))\n",
    "            lemmata.append(word.lemma)\n",
    "lemmata[0:20]"
   ]
  },
  {
   "cell_type": "markdown",
   "metadata": {},
   "source": [
    "## Lemmatizer in Textblob\n",
    " - https://textblob.readthedocs.io/en/dev/quickstart.html\n",
    " - ```pip install -U textblob```\n",
    " - ```pip install -U textblob-de```\n",
    " - https://github.com/markuskiller/textblob-de"
   ]
  },
  {
   "cell_type": "code",
   "execution_count": 25,
   "metadata": {},
   "outputs": [
    {
     "data": {
      "text/plain": [
       "['kurz',\n",
       " 'vor',\n",
       " '22.00',\n",
       " 'Uhr',\n",
       " 'sein',\n",
       " 'Polizist',\n",
       " 'der',\n",
       " 'Stadtpolizei',\n",
       " 'in',\n",
       " 'all',\n",
       " 'Richtungen',\n",
       " 'aber',\n",
       " 'vor',\n",
       " 'all',\n",
       " 'in',\n",
       " 'Richtung',\n",
       " 'Kreis',\n",
       " '9',\n",
       " 'ausgerückt',\n",
       " 'Grund']"
      ]
     },
     "execution_count": 25,
     "metadata": {},
     "output_type": "execute_result"
    }
   ],
   "source": [
    "party_text = '''\n",
    "Kurz vor 22.00 Uhr sind Polizisten der Stadtpolizei in alle Richtungen aber vor allem in Richtung Kreis 9 ausgerückt. Grund war eine Meldung zu einer privaten Party an der Aargauerstrasse, die angeblich ausser Kontrolle geraten sei. \n",
    "'''\n",
    "from textblob_de import TextBlobDE\n",
    "from textblob_de import PatternParser\n",
    "blob = TextBlobDE(party_text, parser=PatternParser(pprint=False, lemmata=True))\n",
    "blob.parse()\n",
    "list(blob.words.lemmatize())[0:20]"
   ]
  },
  {
   "cell_type": "markdown",
   "metadata": {},
   "source": [
    "## POS Tagging (Part of Speech Tagging)\n",
    "- Ich bin nur interessiert an Substantiven oder Adjektiven oder Verben. \n",
    "- Wie kann ich nur diese filtern? \n",
    "- Funktioniert für Deutsch nicht auf Anhieb in NLTK :(\n",
    "- aber gut in pattern und textblob"
   ]
  },
  {
   "cell_type": "markdown",
   "metadata": {},
   "source": [
    "## Übersicht\n",
    "https://www.clips.uantwerpen.be/pages/mbsp-tags\n",
    "\n",
    "|  Tag | Description | Example |\n",
    "|  ------ | ------ | ------ |\n",
    "|  **CC** | conjunction, coordinating | and, or, but |\n",
    "|  **CD** | cardinal number | five, three, 13% |\n",
    "|  **DT** | determiner | the, a, these |\n",
    "|  **EX** | existential there | there were six boys |\n",
    "|  **FW** | foreign word | mais |\n",
    "|  **IN** | conjunction, subordinating or preposition | of, on, before, unless |\n",
    "|  **JJ** | adjective | nice, easy |\n",
    "|  **JJR** | adjective, comparative | nicer, easier |\n",
    "|  **JJS** | adjective, superlative | nicest, easiest |\n",
    "|  **LS** | list item marker |  |\n",
    "|  **MD** | verb, modal auxillary | may, should |\n",
    "|  **NN** | noun, singular or mass | tiger, chair, laughter |\n",
    "|  **NNS** | noun, plural | tigers, chairs, insects |\n",
    "|  **NNP** | noun, proper singular | Germany, God, Alice |\n",
    "|  **NNPS** | noun, proper plural | we met two Christmases ago |\n",
    "|  **PDT** | predeterminer | both his children |\n",
    "|  **POS** | possessive ending | s |\n",
    "|  **PRP** | pronoun, personal | me, you, it |\n",
    "|  **PRP** | pronoun, possessive | my, your, our |\n",
    "|  **RB** | adverb | extremely, loudly, hard |\n",
    "|  **RBR** | adverb, comparative | better |\n",
    "|  **RBS** | adverb, superlative | best |\n",
    "|  **RP** | adverb, particle | about, off, up |\n",
    "|  **SYM** | symbol | % |\n",
    "|  **TO** | infinitival to | what to do? |\n",
    "|  **UH** | interjection | oh, oops, gosh |\n",
    "|  **VB** | verb, base form | think |\n",
    "|  **VBZ** | verb, 3rd person singular present | she thinks |\n",
    "|  **VBP** | verb, non-3rd person singular present | I think |\n",
    "|  **VBD** | verb, past tense | they thought |\n",
    "|  **VBN** | verb, past participle | a sunken ship |\n",
    "|  **VBG** | verb, gerund or present participle | thinking is fun |\n",
    "|  **WDT** | wh-determiner | which, whatever, whichever |\n",
    "|  **WP** | wh-pronoun, personal | what, who, whom |\n",
    "|  **WP** | wh-pronoun, possessive | whose, whosever |\n",
    "|  **WRB** | wh-adverb | where, when |\n",
    "|  **.** | punctuation mark, sentence closer | .;?* |\n",
    "|  **,** | punctuation mark, comma | , |\n",
    "|  **:** | punctuation mark, colon | : |\n",
    "|  **(** | contextual separator, left paren | ( |\n",
    "|  **)** | contextual separator, right paren | ) |"
   ]
  },
  {
   "cell_type": "markdown",
   "metadata": {},
   "source": [
    "### POS tags in textblob"
   ]
  },
  {
   "cell_type": "code",
   "execution_count": 63,
   "metadata": {},
   "outputs": [],
   "source": [
    "text_rep = '''Das bekamen etwa die Manager von Daimler im Februar 2018 zu spüren. Da hatte es ein Marketing­mitarbeiter gewagt, eine Mercedes-Werbung auf Instagram mit einem Zitat des Dalai Lama zu schmücken. «Betrachte die Situation von allen Seiten, und du wirst offener», riet der Autor den Lesern. Doch aus Sicht der Pekinger Regierung ist schon die Erwähnung des «Separatisten» Dalai Lama ein Verbrechen. Binnen Stunden erhob sich ein Shitstorm, und die Volks­zeitung, das Sprachrohr der kommunistischen Partei, erklärte Daimler zum «Volksfeind». Umgehend nannte der Daimler-Vorstand den harmlosen Sinn­spruch «eine extrem falsche Botschaft», und Dieter Zetsche, bis vor kurzem Konzernchef, erklärte, er «bereue zutiefst das Leid, das der unsensible Fehler über das chinesische Volk gebracht hat».\n",
    "\n",
    "Ähnlich erging es dem Kamera­hersteller Leica im vergangenen April. Ein im Auftrag der Firma erstellter PR-Film warb mit welt­berühmten Fotografien, darunter auch jenes Bild vom einsamen Demonstranten, der sich 1989 auf dem Tiananmen-Platz in Peking den Panzern entgegen­stellt. Prompt erhob sich auch dagegen der national gesteuerte Protest, und die Firma sah sich gezwungen, sich von «den Inhalten distanzieren» zu müssen, und bedauerte «alle Missverständnisse oder falschen Schlussfolgerungen, die gezogen wurden».\n",
    "\n",
    "VW-Chef Herbert Diess machte sich für das Wohl­gefallen der chinesischen Herren sogar vor laufender Kamera lächerlich. Als ein BBC-Reporter ihn im April fragte, wie er eine Fabrik in Xinjiang betreiben könne, wo China mehr als eine Million muslimischer Uiguren gefangen hält, behauptete er kurzerhand: «Davon weiss ich nichts.» Kurz darauf erklärte ein Konzern­sprecher, Diess wisse es natürlich besser. Aber der TV-Beitrag ist unmissverständlich.\n",
    "\n",
    "Kein Wunder also, dass die gemeinsame China-Politik der Europäer nicht weit gediehen ist. Zwar haben sich alle Mitglieds­staaten im April verpflichtet, Direkt­investitionen aus Nicht-EU-Ländern der EU-Kommission zu melden. Aber auf klare Regeln für mögliche Verbote mochte sie sich nicht festlegen. Die Kommission darf nur beraten – doch sie darf nicht eingreifen.\n",
    "\n",
    "Ginge es nach den Brüsseler Kommissaren, dann würde die EU auch hart dagegen vorgehen, dass europäische Investoren in China engeren Grenzen unterliegen als umgekehrt. Noch sperrt die chinesische Regierung dreizehn Wirtschafts­sektoren – von der Agrarproduktion über den Flugbetrieb bis zu den Medien – für ausländische Unternehmen. Europäer können auch nicht in die wichtigen chinesischen Staats­unternehmen einsteigen, während den chinesischen Staatsfirmen umgekehrt die privaten Firmen in Europa offenstehen. Seit fünf Jahren verhandelt die Kommission darum ein Investitions­abkommen mit China. Aber noch ist nicht viel passiert.\n",
    "\n",
    "So folgt die EU in Schlangen­linien den Interessen ihrer Mitglieder. Doch das kann nicht mehr lange gut gehen. Denn jetzt eskaliert der Wirtschafts­krieg zwischen der alten Super­macht im Westen – den USA – und der neuen Macht im Osten – China. Und Europa droht dabei zum Schlachtfeld zu werden.'''\n"
   ]
  },
  {
   "cell_type": "code",
   "execution_count": 91,
   "metadata": {},
   "outputs": [],
   "source": [
    "substantive = []\n",
    "adjektive = []\n",
    "verben = []\n",
    "blob = TextBlobDE(text_rep, parser=PatternParser(pprint=False, lemmata=True))\n",
    "for word in blob.tags:\n",
    "    if \"NN\" in word[1]:\n",
    "        substantive.append(word[0])\n",
    "    if \"V\" in word[1]:\n",
    "        verben.append(word[0])\n",
    "    if \"JJ\" in word[1]:\n",
    "        adjektive.append(word[0])"
   ]
  },
  {
   "cell_type": "code",
   "execution_count": 92,
   "metadata": {},
   "outputs": [
    {
     "data": {
      "text/plain": [
       "['bekamen',\n",
       " 'Manager',\n",
       " 'Daimler',\n",
       " 'Februar',\n",
       " 'Marketing\\xadmitarbeiter',\n",
       " 'Mercedes-Werbung',\n",
       " 'Zitat',\n",
       " 'Dalai',\n",
       " 'Lama',\n",
       " '«',\n",
       " 'Betrachte',\n",
       " 'Situation',\n",
       " 'Seiten',\n",
       " 'offener',\n",
       " '»',\n",
       " 'riet',\n",
       " 'Autor',\n",
       " 'Lesern',\n",
       " 'Sicht',\n",
       " 'Pekinger',\n",
       " 'Regierung',\n",
       " 'Erwähnung',\n",
       " '«',\n",
       " 'Separatisten',\n",
       " '»',\n",
       " 'Dalai',\n",
       " 'Lama',\n",
       " 'Verbrechen',\n",
       " 'Binnen',\n",
       " 'Stunden',\n",
       " 'Shitstorm',\n",
       " 'Volks\\xadzeitung',\n",
       " 'Sprachrohr',\n",
       " 'Partei',\n",
       " 'Daimler',\n",
       " '«',\n",
       " '»',\n",
       " 'Daimler-Vorstand',\n",
       " 'Sinn\\xadspruch',\n",
       " '«',\n",
       " 'Botschaft',\n",
       " '»',\n",
       " 'Dieter',\n",
       " 'Konzernchef',\n",
       " '«',\n",
       " 'bereue',\n",
       " 'zutiefst',\n",
       " 'Leid',\n",
       " 'Fehler',\n",
       " 'Volk',\n",
       " '»',\n",
       " 'Kamera\\xadhersteller',\n",
       " 'Leica',\n",
       " 'April',\n",
       " 'Auftrag',\n",
       " 'Firma',\n",
       " 'PR-Film',\n",
       " 'warb',\n",
       " 'welt\\xadberühmten',\n",
       " 'Fotografien',\n",
       " 'jenes',\n",
       " 'Bild',\n",
       " 'Demonstranten',\n",
       " 'Tiananmen-Platz',\n",
       " 'Peking',\n",
       " 'entgegen\\xadstellt',\n",
       " 'Prompt',\n",
       " 'gesteuerte',\n",
       " 'Protest',\n",
       " 'Firma',\n",
       " '«',\n",
       " 'Inhalten',\n",
       " 'distanzieren',\n",
       " '»',\n",
       " 'bedauerte',\n",
       " '«',\n",
       " 'Missverständnisse',\n",
       " 'Schlussfolgerungen',\n",
       " '»',\n",
       " 'VW-Chef',\n",
       " 'Herbert',\n",
       " 'Wohl\\xadgefallen',\n",
       " 'Herren',\n",
       " 'Kamera',\n",
       " 'BBC-Reporter',\n",
       " 'April',\n",
       " 'fragte',\n",
       " 'Fabrik',\n",
       " 'Xinjiang',\n",
       " 'China',\n",
       " 'Million',\n",
       " 'muslimischer',\n",
       " 'Uiguren',\n",
       " 'kurzerhand',\n",
       " '«',\n",
       " '»',\n",
       " 'Kurz',\n",
       " 'Konzern\\xadsprecher',\n",
       " 'wisse',\n",
       " 'TV-Beitrag',\n",
       " 'Kein',\n",
       " 'Wunder',\n",
       " 'China-Politik',\n",
       " 'Europäer',\n",
       " 'gediehen',\n",
       " 'Mitglieds\\xadstaaten',\n",
       " 'April',\n",
       " 'Direkt\\xadinvestitionen',\n",
       " 'Nicht-EU-Ländern',\n",
       " 'EU-Kommission',\n",
       " 'Regeln',\n",
       " 'Verbote',\n",
       " 'Kommission',\n",
       " '–',\n",
       " 'Ginge',\n",
       " 'Brüsseler',\n",
       " 'Kommissaren',\n",
       " 'EU',\n",
       " 'Investoren',\n",
       " 'China',\n",
       " 'engeren',\n",
       " 'Grenzen',\n",
       " 'sperrt',\n",
       " 'Regierung',\n",
       " '–',\n",
       " 'Agrarproduktion',\n",
       " 'Flugbetrieb',\n",
       " '–',\n",
       " 'Unternehmen',\n",
       " 'Europäer',\n",
       " 'Staats\\xadunternehmen',\n",
       " 'Staatsfirmen',\n",
       " 'Firmen',\n",
       " 'Europa',\n",
       " 'offenstehen',\n",
       " 'Jahren',\n",
       " 'Kommission',\n",
       " 'Investitions\\xadabkommen',\n",
       " 'China',\n",
       " 'passiert',\n",
       " 'EU',\n",
       " 'Schlangen\\xadlinien',\n",
       " 'Interessen',\n",
       " 'Mitglieder',\n",
       " 'eskaliert',\n",
       " 'Wirtschafts\\xadkrieg',\n",
       " 'Super\\xadmacht',\n",
       " 'Westen',\n",
       " '–',\n",
       " 'USA',\n",
       " '–',\n",
       " 'Macht',\n",
       " 'Osten',\n",
       " '–',\n",
       " 'China',\n",
       " 'Europa',\n",
       " 'Schlachtfeld']"
      ]
     },
     "execution_count": 92,
     "metadata": {},
     "output_type": "execute_result"
    }
   ],
   "source": [
    "substantive"
   ]
  },
  {
   "cell_type": "code",
   "execution_count": 93,
   "metadata": {},
   "outputs": [
    {
     "data": {
      "text/plain": [
       "['Instagram',\n",
       " 'allen',\n",
       " 'kommunistischen',\n",
       " 'Volksfeind',\n",
       " 'Umgehend',\n",
       " 'harmlosen',\n",
       " 'extrem',\n",
       " 'falsche',\n",
       " 'kurzem',\n",
       " 'chinesische',\n",
       " 'Ähnlich',\n",
       " 'vergangenen',\n",
       " 'erstellter',\n",
       " 'einsamen',\n",
       " 'Panzern',\n",
       " 'national',\n",
       " 'alle',\n",
       " 'falschen',\n",
       " 'chinesischen',\n",
       " 'laufender',\n",
       " 'lächerlich',\n",
       " 'er',\n",
       " 'nichts.',\n",
       " 'unmissverständlich',\n",
       " 'gemeinsame',\n",
       " 'weit',\n",
       " 'alle',\n",
       " 'klare',\n",
       " 'mögliche',\n",
       " 'hart',\n",
       " 'europäische',\n",
       " 'chinesische',\n",
       " 'Wirtschafts\\xadsektoren',\n",
       " 'Medien',\n",
       " 'ausländische',\n",
       " 'wichtigen',\n",
       " 'chinesischen',\n",
       " 'chinesischen',\n",
       " 'privaten',\n",
       " 'gut',\n",
       " 'alten',\n",
       " 'neuen']"
      ]
     },
     "execution_count": 93,
     "metadata": {},
     "output_type": "execute_result"
    }
   ],
   "source": [
    "adjektive"
   ]
  },
  {
   "cell_type": "code",
   "execution_count": 94,
   "metadata": {},
   "outputs": [
    {
     "data": {
      "text/plain": [
       "['spüren',\n",
       " 'hatte',\n",
       " 'gewagt',\n",
       " 'schmücken',\n",
       " 'ist',\n",
       " 'erhob',\n",
       " 'erklärte',\n",
       " 'nannte',\n",
       " 'Zetsche',\n",
       " 'erklärte',\n",
       " 'gebracht',\n",
       " 'hat',\n",
       " 'erhob',\n",
       " 'sah',\n",
       " 'gezwungen',\n",
       " 'müssen',\n",
       " 'gezogen',\n",
       " 'wurden',\n",
       " 'machte',\n",
       " 'betreiben',\n",
       " 'könne',\n",
       " 'gefangen',\n",
       " 'hält',\n",
       " 'behauptete',\n",
       " 'Davon',\n",
       " 'darauf',\n",
       " 'ist',\n",
       " 'ist',\n",
       " 'Zwar',\n",
       " 'haben',\n",
       " 'verpflichtet',\n",
       " 'melden',\n",
       " 'mochte',\n",
       " 'festlegen',\n",
       " 'darf',\n",
       " 'beraten',\n",
       " 'darf',\n",
       " 'eingreifen',\n",
       " 'dann',\n",
       " 'würde',\n",
       " 'vorgehen',\n",
       " 'unterliegen',\n",
       " 'können',\n",
       " 'einsteigen',\n",
       " 'verhandelt',\n",
       " 'darum',\n",
       " 'ist',\n",
       " 'folgt',\n",
       " 'kann',\n",
       " 'gehen',\n",
       " 'droht',\n",
       " 'werden']"
      ]
     },
     "execution_count": 94,
     "metadata": {},
     "output_type": "execute_result"
    }
   ],
   "source": [
    "verben"
   ]
  },
  {
   "cell_type": "markdown",
   "metadata": {},
   "source": [
    "## Stop word removal\n"
   ]
  },
  {
   "cell_type": "code",
   "execution_count": 95,
   "metadata": {},
   "outputs": [
    {
     "name": "stderr",
     "output_type": "stream",
     "text": [
      "[nltk_data] Downloading package stopwords to\n",
      "[nltk_data]     /Users/TamaraMBP/nltk_data...\n",
      "[nltk_data]   Package stopwords is already up-to-date!\n"
     ]
    }
   ],
   "source": [
    "nltk.download('stopwords')\n",
    "from nltk.corpus import stopwords"
   ]
  },
  {
   "cell_type": "markdown",
   "metadata": {},
   "source": [
    "### Englisch"
   ]
  },
  {
   "cell_type": "code",
   "execution_count": 97,
   "metadata": {
    "scrolled": true
   },
   "outputs": [
    {
     "data": {
      "text/plain": [
       "['i',\n",
       " 'me',\n",
       " 'my',\n",
       " 'myself',\n",
       " 'we',\n",
       " 'our',\n",
       " 'ours',\n",
       " 'ourselves',\n",
       " 'you',\n",
       " \"you're\",\n",
       " \"you've\",\n",
       " \"you'll\",\n",
       " \"you'd\",\n",
       " 'your',\n",
       " 'yours',\n",
       " 'yourself',\n",
       " 'yourselves',\n",
       " 'he',\n",
       " 'him',\n",
       " 'his',\n",
       " 'himself',\n",
       " 'she',\n",
       " \"she's\",\n",
       " 'her',\n",
       " 'hers',\n",
       " 'herself',\n",
       " 'it',\n",
       " \"it's\",\n",
       " 'its',\n",
       " 'itself',\n",
       " 'they',\n",
       " 'them',\n",
       " 'their',\n",
       " 'theirs',\n",
       " 'themselves',\n",
       " 'what',\n",
       " 'which',\n",
       " 'who',\n",
       " 'whom',\n",
       " 'this',\n",
       " 'that',\n",
       " \"that'll\",\n",
       " 'these',\n",
       " 'those',\n",
       " 'am',\n",
       " 'is',\n",
       " 'are',\n",
       " 'was',\n",
       " 'were',\n",
       " 'be',\n",
       " 'been',\n",
       " 'being',\n",
       " 'have',\n",
       " 'has',\n",
       " 'had',\n",
       " 'having',\n",
       " 'do',\n",
       " 'does',\n",
       " 'did',\n",
       " 'doing',\n",
       " 'a',\n",
       " 'an',\n",
       " 'the',\n",
       " 'and',\n",
       " 'but',\n",
       " 'if',\n",
       " 'or',\n",
       " 'because',\n",
       " 'as',\n",
       " 'until',\n",
       " 'while',\n",
       " 'of',\n",
       " 'at',\n",
       " 'by',\n",
       " 'for',\n",
       " 'with',\n",
       " 'about',\n",
       " 'against',\n",
       " 'between',\n",
       " 'into',\n",
       " 'through',\n",
       " 'during',\n",
       " 'before',\n",
       " 'after',\n",
       " 'above',\n",
       " 'below',\n",
       " 'to',\n",
       " 'from',\n",
       " 'up',\n",
       " 'down',\n",
       " 'in',\n",
       " 'out',\n",
       " 'on',\n",
       " 'off',\n",
       " 'over',\n",
       " 'under',\n",
       " 'again',\n",
       " 'further',\n",
       " 'then',\n",
       " 'once']"
      ]
     },
     "execution_count": 97,
     "metadata": {},
     "output_type": "execute_result"
    }
   ],
   "source": [
    "stopwords.words('english')[0:100]"
   ]
  },
  {
   "cell_type": "code",
   "execution_count": 99,
   "metadata": {},
   "outputs": [
    {
     "data": {
      "text/plain": [
       "['big', 'tree', 'duck']"
      ]
     },
     "execution_count": 99,
     "metadata": {},
     "output_type": "execute_result"
    }
   ],
   "source": [
    "words_engl = [\"the\", \"big\", \"tree\", \"and\", \"the\", \"duck\"]\n",
    "filtered_words = [word for word in words_engl if word not in stopwords.words('english')]\n",
    "filtered_words"
   ]
  },
  {
   "cell_type": "markdown",
   "metadata": {},
   "source": [
    "### Deutsch"
   ]
  },
  {
   "cell_type": "code",
   "execution_count": 79,
   "metadata": {},
   "outputs": [],
   "source": [
    "mylist = stopwords.words('german')"
   ]
  },
  {
   "cell_type": "code",
   "execution_count": 80,
   "metadata": {},
   "outputs": [
    {
     "data": {
      "text/plain": [
       "['zur',\n",
       " 'jeden',\n",
       " 'manche',\n",
       " 'derselben',\n",
       " 'auf',\n",
       " 'jeder',\n",
       " 'haben',\n",
       " 'machen',\n",
       " 'solche',\n",
       " 'ihn',\n",
       " 'sonst',\n",
       " 'wo',\n",
       " 'welcher',\n",
       " 'anderr',\n",
       " 'dich',\n",
       " 'meinem',\n",
       " 'meines',\n",
       " 'hat',\n",
       " 'dieselben',\n",
       " 'euch',\n",
       " 'seine',\n",
       " 'solchem',\n",
       " 'noch',\n",
       " 'wollte',\n",
       " 'mich',\n",
       " 'dir',\n",
       " 'ihres',\n",
       " 'unter',\n",
       " 'die',\n",
       " 'damit',\n",
       " 'allen',\n",
       " 'einem',\n",
       " 'ist',\n",
       " 'deine',\n",
       " 'da',\n",
       " 'eures',\n",
       " 'dein',\n",
       " 'hatten',\n",
       " 'könnte',\n",
       " 'seinem',\n",
       " 'seinen',\n",
       " 'gegen',\n",
       " 'dessen',\n",
       " 'du',\n",
       " 'muss',\n",
       " 'bis',\n",
       " 'keines',\n",
       " 'alles',\n",
       " 'dieser',\n",
       " 'jene',\n",
       " 'sie',\n",
       " 'viel',\n",
       " 'mit',\n",
       " 'nun',\n",
       " 'meiner',\n",
       " 'unseres',\n",
       " 'auch',\n",
       " 'einiges',\n",
       " 'diese',\n",
       " 'ohne',\n",
       " 'dass',\n",
       " 'desselben',\n",
       " 'hatte',\n",
       " 'ob',\n",
       " 'im',\n",
       " 'dies',\n",
       " 'keinen',\n",
       " 'nichts',\n",
       " 'man',\n",
       " 'zum',\n",
       " 'deinen',\n",
       " 'keinem',\n",
       " 'manchem',\n",
       " 'solchen',\n",
       " 'ihre',\n",
       " 'sind',\n",
       " 'nicht',\n",
       " 'alle',\n",
       " 'es',\n",
       " 'sehr',\n",
       " 'oder',\n",
       " 'weiter',\n",
       " 'weil',\n",
       " 'manches',\n",
       " 'bin',\n",
       " 'ins',\n",
       " 'solcher',\n",
       " 'ander',\n",
       " 'des',\n",
       " 'vom',\n",
       " 'dieses',\n",
       " 'dem',\n",
       " 'einiger',\n",
       " 'seines',\n",
       " 'waren',\n",
       " 'während',\n",
       " 'nach',\n",
       " 'eines',\n",
       " 'jetzt',\n",
       " 'sollte',\n",
       " 'als',\n",
       " 'einen',\n",
       " 'hier',\n",
       " 'ihrer',\n",
       " 'ihnen',\n",
       " 'so',\n",
       " 'warst',\n",
       " 'meinen',\n",
       " 'demselben',\n",
       " 'welchen',\n",
       " 'hinter',\n",
       " 'kein',\n",
       " 'bei',\n",
       " 'unser',\n",
       " 'kann',\n",
       " 'soll',\n",
       " 'mir',\n",
       " 'meine',\n",
       " 'einig',\n",
       " 'am',\n",
       " 'ihm',\n",
       " 'mancher',\n",
       " 'denselben',\n",
       " 'bist',\n",
       " 'anderen',\n",
       " 'euer',\n",
       " 'war',\n",
       " 'werden',\n",
       " 'einigen',\n",
       " 'durch',\n",
       " 'einigem',\n",
       " 'wird',\n",
       " 'welche',\n",
       " 'jedem',\n",
       " 'derselbe',\n",
       " 'ihrem',\n",
       " 'wenn',\n",
       " 'seiner',\n",
       " 'allem',\n",
       " 'diesen',\n",
       " 'welchem',\n",
       " 'vor',\n",
       " 'das',\n",
       " 'unseren',\n",
       " 'deinem',\n",
       " 'deines',\n",
       " 'jedes',\n",
       " 'keiner',\n",
       " 'für',\n",
       " 'aller',\n",
       " 'ihr',\n",
       " 'selbst',\n",
       " 'wie',\n",
       " 'doch',\n",
       " 'zwischen',\n",
       " 'und',\n",
       " 'manchen',\n",
       " 'andern',\n",
       " 'will',\n",
       " 'anderer',\n",
       " 'den',\n",
       " 'sondern',\n",
       " 'über',\n",
       " 'dazu',\n",
       " 'jenen',\n",
       " 'werde',\n",
       " 'anderm',\n",
       " 'dieselbe',\n",
       " 'ihren',\n",
       " 'einer',\n",
       " 'nur',\n",
       " 'jenes',\n",
       " 'der',\n",
       " 'zu',\n",
       " 'eure',\n",
       " 'was',\n",
       " 'aber',\n",
       " 'er',\n",
       " 'solches',\n",
       " 'jenem',\n",
       " 'anderem',\n",
       " 'wir',\n",
       " 'diesem',\n",
       " 'eurer',\n",
       " 'dort',\n",
       " 'daß',\n",
       " 'andere',\n",
       " 'etwas',\n",
       " 'sich',\n",
       " 'euren',\n",
       " 'wollen',\n",
       " 'ein',\n",
       " 'also',\n",
       " 'gewesen',\n",
       " 'von',\n",
       " 'uns',\n",
       " 'habe',\n",
       " 'sein',\n",
       " 'denn',\n",
       " 'hin',\n",
       " 'weg',\n",
       " 'deiner',\n",
       " 'jener',\n",
       " 'indem',\n",
       " 'würde',\n",
       " 'in',\n",
       " 'keine',\n",
       " 'dann',\n",
       " 'anders',\n",
       " 'jede',\n",
       " 'wieder',\n",
       " 'zwar',\n",
       " 'einmal',\n",
       " 'würden',\n",
       " 'eurem',\n",
       " 'mein',\n",
       " 'musste',\n",
       " 'wirst',\n",
       " 'aus',\n",
       " 'derer',\n",
       " 'eine',\n",
       " 'einige',\n",
       " 'um',\n",
       " 'können',\n",
       " 'dasselbe',\n",
       " 'unserem',\n",
       " 'an',\n",
       " 'unsere',\n",
       " 'welches',\n",
       " 'hab',\n",
       " 'anderes']"
      ]
     },
     "execution_count": 80,
     "metadata": {},
     "output_type": "execute_result"
    }
   ],
   "source": [
    "my_new_list = list(set(mylist)- set([\"ich\"]))\n",
    "my_new_list"
   ]
  },
  {
   "cell_type": "code",
   "execution_count": 81,
   "metadata": {},
   "outputs": [
    {
     "data": {
      "text/plain": [
       "['wald', 'spazieren']"
      ]
     },
     "execution_count": 81,
     "metadata": {},
     "output_type": "execute_result"
    }
   ],
   "source": [
    "words_german = [\"ich\", \"war\", \"im\", \"wald\", \"spazieren\"]\n",
    "filtered_words = [word for word in words_german if word not in stopwords.words('german')]\n",
    "filtered_words"
   ]
  },
  {
   "cell_type": "markdown",
   "metadata": {},
   "source": [
    "## Wordle 2.0"
   ]
  },
  {
   "cell_type": "markdown",
   "metadata": {},
   "source": [
    "- Tokenization\n",
    "- Lemmatization"
   ]
  },
  {
   "cell_type": "code",
   "execution_count": 82,
   "metadata": {},
   "outputs": [],
   "source": [
    "text = (\" \").join(udhr.words(\"German_Deutsch-Latin1\"))\n",
    "# tokenize and lemmatize\n",
    "words = word_tokenize(text)\n",
    "words_german =[word.lower() for word in words if word.isalpha()]\n",
    "lemma = nltk.WordNetLemmatizer()\n",
    "lemmas = [lemma.lemmatize(i) for i in words_german]\n",
    "clean_blob = lemmas"
   ]
  },
  {
   "cell_type": "markdown",
   "metadata": {},
   "source": [
    "- Numbers etc.. removal\n",
    "- Stop word removal"
   ]
  },
  {
   "cell_type": "code",
   "execution_count": 83,
   "metadata": {},
   "outputs": [
    {
     "data": {
      "text/plain": [
       "['allgemeine',\n",
       " 'erklärung',\n",
       " 'menschenrechte',\n",
       " 'resolution',\n",
       " 'a',\n",
       " 'iii',\n",
       " 'präambel',\n",
       " 'anerkennung',\n",
       " 'angeborenen',\n",
       " 'gleichen',\n",
       " 'unveräußerlichen',\n",
       " 'rechte',\n",
       " 'mitglieder',\n",
       " 'gemeinschaft',\n",
       " 'menschen',\n",
       " 'grundlage',\n",
       " 'freiheit',\n",
       " 'gerechtigkeit',\n",
       " 'frieden',\n",
       " 'welt']"
      ]
     },
     "execution_count": 83,
     "metadata": {},
     "output_type": "execute_result"
    }
   ],
   "source": [
    "from nltk.corpus import stopwords\n",
    "words_alpha =[word.lower() for word in clean_blob if word.isalpha()]\n",
    "stopwords = stopwords.words('german')\n",
    "stopwords.append(\"jede\")\n",
    "result = [word for word in words_alpha if word not in stopwords]\n",
    "result[0:20]"
   ]
  },
  {
   "cell_type": "code",
   "execution_count": 84,
   "metadata": {},
   "outputs": [
    {
     "data": {
      "text/plain": [
       "['allgemeine',\n",
       " 'erklärung',\n",
       " 'menschenrechte',\n",
       " 'resolution',\n",
       " 'a',\n",
       " 'iii',\n",
       " 'präambel',\n",
       " 'anerkennung',\n",
       " 'angeborenen',\n",
       " 'gleichen',\n",
       " 'unveräußerlichen',\n",
       " 'rechte',\n",
       " 'mitglieder',\n",
       " 'gemeinschaft',\n",
       " 'menschen',\n",
       " 'grundlage',\n",
       " 'freiheit',\n",
       " 'gerechtigkeit',\n",
       " 'frieden',\n",
       " 'welt']"
      ]
     },
     "execution_count": 84,
     "metadata": {},
     "output_type": "execute_result"
    }
   ],
   "source": [
    "result[0:20]"
   ]
  },
  {
   "cell_type": "code",
   "execution_count": 85,
   "metadata": {},
   "outputs": [],
   "source": [
    "text = (\" \").join(result)"
   ]
  },
  {
   "cell_type": "code",
   "execution_count": null,
   "metadata": {},
   "outputs": [],
   "source": [
    " a = [123,\n",
    "     123]"
   ]
  },
  {
   "cell_type": "code",
   "execution_count": 88,
   "metadata": {},
   "outputs": [
    {
     "data": {
      "image/png": "[encoded data removed]",
      "text/plain": [
       "<Figure size 1080x576 with 1 Axes>"
      ]
     },
     "metadata": {
      "needs_background": "light"
     },
     "output_type": "display_data"
    }
   ],
   "source": [
    "from wordcloud import WordCloud\n",
    "import matplotlib.pyplot as plt\n",
    "import numpy as np\n",
    "from PIL import Image\n",
    "import os\n",
    "from os import path\n",
    "d = path.dirname(__file__) if \"__file__\" in locals() else os.getcwd()\n",
    "\n",
    "maske = np.array(Image.open(path.join(d, \"maske.png\")))\n",
    "\n",
    "wc = WordCloud(background_color=\"white\", max_words=2000, mask=maske, contour_width=3, contour_color='steelblue',collocations=False, normalize_plurals=False)\n",
    "wc.generate(text)\n",
    "plt.figure(figsize=(15,8))\n",
    "plt.imshow(wc, interpolation=\"bilinear\")\n",
    "plt.axis(\"off\")\n",
    "plt.show()"
   ]
  },
  {
   "cell_type": "code",
   "execution_count": 89,
   "metadata": {},
   "outputs": [
    {
     "data": {
      "text/plain": [
       "'Das bekamen etwa die Manager von Daimler im Februar 2018 zu spüren. Da hatte es ein Marketing\\xadmitarbeiter gewagt, eine Mercedes-Werbung auf Instagram mit einem Zitat des Dalai Lama zu schmücken. «Betrachte die Situation von allen Seiten, und du wirst offener», riet der Autor den Lesern. Doch aus Sicht der Pekinger Regierung ist schon die Erwähnung des «Separatisten» Dalai Lama ein Verbrechen. Binnen Stunden erhob sich ein Shitstorm, und die Volks\\xadzeitung, das Sprachrohr der kommunistischen Partei, erklärte Daimler zum «Volksfeind». Umgehend nannte der Daimler-Vorstand den harmlosen Sinn\\xadspruch «eine extrem falsche Botschaft», und Dieter Zetsche, bis vor kurzem Konzernchef, erklärte, er «bereue zutiefst das Leid, das der unsensible Fehler über das chinesische Volk gebracht hat».\\n\\nÄhnlich erging es dem Kamera\\xadhersteller Leica im vergangenen April. Ein im Auftrag der Firma erstellter PR-Film warb mit welt\\xadberühmten Fotografien, darunter auch jenes Bild vom einsamen Demonstranten, der sich 1989 auf dem Tiananmen-Platz in Peking den Panzern entgegen\\xadstellt. Prompt erhob sich auch dagegen der national gesteuerte Protest, und die Firma sah sich gezwungen, sich von «den Inhalten distanzieren» zu müssen, und bedauerte «alle Missverständnisse oder falschen Schlussfolgerungen, die gezogen wurden».\\n\\nVW-Chef Herbert Diess machte sich für das Wohl\\xadgefallen der chinesischen Herren sogar vor laufender Kamera lächerlich. Als ein BBC-Reporter ihn im April fragte, wie er eine Fabrik in Xinjiang betreiben könne, wo China mehr als eine Million muslimischer Uiguren gefangen hält, behauptete er kurzerhand: «Davon weiss ich nichts.» Kurz darauf erklärte ein Konzern\\xadsprecher, Diess wisse es natürlich besser. Aber der TV-Beitrag ist unmissverständlich.\\n\\nKein Wunder also, dass die gemeinsame China-Politik der Europäer nicht weit gediehen ist. Zwar haben sich alle Mitglieds\\xadstaaten im April verpflichtet, Direkt\\xadinvestitionen aus Nicht-EU-Ländern der EU-Kommission zu melden. Aber auf klare Regeln für mögliche Verbote mochte sie sich nicht festlegen. Die Kommission darf nur beraten – doch sie darf nicht eingreifen.\\n\\nGinge es nach den Brüsseler Kommissaren, dann würde die EU auch hart dagegen vorgehen, dass europäische Investoren in China engeren Grenzen unterliegen als umgekehrt. Noch sperrt die chinesische Regierung dreizehn Wirtschafts\\xadsektoren – von der Agrarproduktion über den Flugbetrieb bis zu den Medien – für ausländische Unternehmen. Europäer können auch nicht in die wichtigen chinesischen Staats\\xadunternehmen einsteigen, während den chinesischen Staatsfirmen umgekehrt die privaten Firmen in Europa offenstehen. Seit fünf Jahren verhandelt die Kommission darum ein Investitions\\xadabkommen mit China. Aber noch ist nicht viel passiert.\\n\\nSo folgt die EU in Schlangen\\xadlinien den Interessen ihrer Mitglieder. Doch das kann nicht mehr lange gut gehen. Denn jetzt eskaliert der Wirtschafts\\xadkrieg zwischen der alten Super\\xadmacht im Westen – den USA – und der neuen Macht im Osten – China. Und Europa droht dabei zum Schlachtfeld zu werden.'"
      ]
     },
     "execution_count": 89,
     "metadata": {},
     "output_type": "execute_result"
    }
   ],
   "source": [
    "text_rep "
   ]
  },
  {
   "cell_type": "code",
   "execution_count": 102,
   "metadata": {},
   "outputs": [
    {
     "data": {
      "image/png": "[encoded data removed]",
      "text/plain": [
       "<Figure size 1080x576 with 1 Axes>"
      ]
     },
     "metadata": {
      "needs_background": "light"
     },
     "output_type": "display_data"
    }
   ],
   "source": [
    "from wordcloud import WordCloud\n",
    "import matplotlib.pyplot as plt\n",
    "import numpy as np\n",
    "from PIL import Image\n",
    "import os\n",
    "from os import path\n",
    "d = path.dirname(__file__) if \"__file__\" in locals() else os.getcwd()\n",
    "\n",
    "maske = np.array(Image.open(path.join(d, \"maske.png\")))\n",
    "\n",
    "wc = WordCloud(background_color=\"white\", max_words=2000, mask=maske, contour_width=3, contour_color='steelblue',collocations=False, normalize_plurals=False)\n",
    "wc.generate(text)\n",
    "plt.figure(figsize=(15,8))\n",
    "plt.imshow(wc, interpolation=\"bilinear\")\n",
    "plt.axis(\"off\")\n",
    "plt.show()"
   ]
  },
  {
   "cell_type": "code",
   "execution_count": null,
   "metadata": {},
   "outputs": [],
   "source": []
  },
  {
   "cell_type": "code",
   "execution_count": null,
   "metadata": {},
   "outputs": [],
   "source": []
  }
 ],
 "metadata": {
  "kernelspec": {
   "display_name": "Python 3",
   "language": "python",
   "name": "python3"
  },
  "language_info": {
   "codemirror_mode": {
    "name": "ipython",
    "version": 3
   },
   "file_extension": ".py",
   "mimetype": "text/x-python",
   "name": "python",
   "nbconvert_exporter": "python",
   "pygments_lexer": "ipython3",
   "version": "3.7.3"
  }
 },
 "nbformat": 4,
 "nbformat_minor": 2
}
